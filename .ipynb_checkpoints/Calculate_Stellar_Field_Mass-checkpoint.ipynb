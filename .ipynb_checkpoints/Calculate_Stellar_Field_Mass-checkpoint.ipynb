{
 "cells": [
  {
   "cell_type": "code",
   "execution_count": 156,
   "metadata": {},
   "outputs": [],
   "source": [
    "###Calculate APOGEE field mass with PARSEC isochrones\n",
    "import astropy\n",
    "from astropy.io import fits, ascii\n",
    "from astropy.table import Table\n",
    "import numpy as np\n",
    "from scipy.interpolate import interp1d\n",
    "\n",
    "#find duplicates in data\n",
    "def dups(data):\n",
    "    '''\n",
    "    - data: some 1d array-like object that possibly has duplicate values\n",
    "    Returns dictionary of duplicates and array of indices\n",
    "    '''\n",
    "    list_data = list(data)\n",
    "    keys = []\n",
    "    values = []\n",
    "    not_uniq = list(set([x for x in list_data if list_data.count(x)>1]))\n",
    "    for i in range(len(not_uniq)):\n",
    "        keys.append(not_uniq[i])\n",
    "        values.append(np.where(data==not_uniq[i]))\n",
    "    idx = dict(zip(keys, values))\n",
    "    return not_uniq, idx\n",
    "\n",
    "def apogee_field_mass(age,metallicity,maxabsH,minabsH,selectfunc,number,parsec_path):\n",
    "    \n",
    "    \"\"\"\n",
    "    This is used to calculate the mass of stars in a field\n",
    "    - age: age of stars to use to pick out isochrone\n",
    "    - metallicity: metallicity of stars to use to pick out isochrone\n",
    "    - maxabsH: max value of H for the field \n",
    "    - minabsH: min vale of H for the field\n",
    "    - selectfunc: selection function for the field\n",
    "    - number: number of stars observed\n",
    "    - parsec_path: dat file of PARSEC isochrones\n",
    "    \"\"\"\n",
    "    \n",
    "    ###Load in isochrones from parsec\n",
    "    parsecall = ascii.read(parsec_path, format='basic', delimiter='\\s')\n",
    "    rgb = np.where(parsecall['label']==3)\n",
    "    parsec = parsecall[rgb]\n",
    "    \n",
    "    #find closest parsec isochrone z fraction\n",
    "    age = np.log10(age*(10**9))\n",
    "    parsec_mets = np.unique(np.asarray((np.log10(parsec['Zini']/0.02))))\n",
    "    met_index = np.absolute(parsec_mets-metallicity*np.ones(len(parsec_mets))).argmin()\n",
    "    z_iso = 0.02*(10**parsec_mets[met_index])\n",
    "    \n",
    "    #find closest parsec isochrone age\n",
    "    parsec_ages = np.unique(np.asarray(parsec['logAge']))\n",
    "    age_index = np.absolute(parsec_ages-age*np.ones(len(parsec_ages))).argmin()\n",
    "    age_iso = parsec_ages[age_index]\n",
    "    \n",
    "    #pick out isochrone, interpolate, and find difference\n",
    "    single_iso = np.where((parsec['Zini']==z_iso)&(parsec['logAge']==age_iso)&(parsec['Hmag']<=maxabsH))\n",
    "\n",
    "    upto = np.where(parsec[single_iso]['Hmag']==min(parsec[single_iso]['Hmag']))\n",
    "    new_parsec = parsec[single_iso][0:int(np.squeeze(upto))]\n",
    "    \n",
    "    inter_iso = interp1d(new_parsec['Hmag'][::-1],new_parsec['int_IMF'][::-1],kind='linear',bounds_error=False,\n",
    "                         fill_value='extrapolate',assume_sorted=False) #fill_value=(np.nan,np.nan)\n",
    "    \n",
    "    diff_IMF = np.absolute(inter_iso(maxabsH)-inter_iso(minabsH))\n",
    "    \n",
    "    return (selectfunc*number)/diff_IMF\n",
    "    "
   ]
  },
  {
   "cell_type": "code",
   "execution_count": 2,
   "metadata": {},
   "outputs": [],
   "source": [
    "import matplotlib\n",
    "import matplotlib.pyplot as plt\n",
    "%matplotlib inline"
   ]
  },
  {
   "cell_type": "code",
   "execution_count": 3,
   "metadata": {},
   "outputs": [],
   "source": [
    "parsecall = ascii.read('/Users/joshpovick/Desktop/Research/Magellanic_Ages/logisochrones.dat',format='basic', delimiter='\\s')\n",
    "rgb = np.where(parsecall['label']==3)\n",
    "parsec = parsecall[rgb]"
   ]
  },
  {
   "cell_type": "code",
   "execution_count": 4,
   "metadata": {},
   "outputs": [],
   "source": [
    "lmcdr16 = fits.getdata('/Users/joshpovick/Desktop/Research/LMC_Structure/lmc_rgbmembers_r13-l33-58672.fits',1)\n",
    "clnr = np.where((lmcdr16['FE_H']>-9999.0)&(lmcdr16['AK_TARG']>-9999.0)&(lmcdr16['LOGG']>0.0)&\\\n",
    "                (lmcdr16['M_H_ERR']>-90.0)&(lmcdr16['C_FE']>-9999.0)&(lmcdr16['N_FE']>-9999.0))\n",
    "\n",
    "clndr16 = lmcdr16[clnr]"
   ]
  },
  {
   "cell_type": "code",
   "execution_count": 5,
   "metadata": {},
   "outputs": [],
   "source": [
    "def dist2LMC(ra, dec, alph0, delt0, pa, io):\n",
    "    '''\n",
    "    - ra: right ascension of stars\n",
    "    - dec: declination of stars\n",
    "    - alph0: right ascension of center of LMC\n",
    "    - delt0: declination of center of LMC\n",
    "    - pa: position angle of line of nodes\n",
    "    - io: inclination of LMC disk\n",
    "    Calculate distance to stars in LMC assuming an inclined disk in the sky\n",
    "    '''\n",
    "    ra1 = np.copy(ra)\n",
    "    dec1 = np.copy(dec)\n",
    "    ra1 = np.radians(ra1)\n",
    "    dec1 = np.radians(dec1)\n",
    "    alph0 = np.radians(alph0) #np.radians(82.25) #ra of LMC center\n",
    "    delt0 = np.radians(delt0) #np.radians(-69.5) #dec of LMC center\n",
    "    sd = np.sin(delt0)\n",
    "    cd = np.cos(delt0)\n",
    "    d0 = 49.9\n",
    "    io = np.radians(io) #inclination #25.86\n",
    "    pa = np.radians(pa+90) #np.radians(149.37+90)  #position angle of line-of-nodes\n",
    "    cosr = cd*np.cos(dec1)*np.cos(ra1-alph0)+sd*np.sin(dec1)\n",
    "    sinrcosph = -np.cos(dec1)*np.sin(ra1-alph0)\n",
    "    sinrsinph = cd*np.sin(dec1)-sd*np.cos(dec1)*np.cos(ra1-alph0)\n",
    "    dis = d0*np.cos(io)/(np.cos(io)*cosr-np.sin(io)*np.cos(pa)*sinrsinph+np.sin(io)*np.sin(pa)*sinrcosph)\n",
    "    return dis\n",
    "\n",
    "def absmag(magnitude,distance):\n",
    "    '''\n",
    "    - magnitude: apparent magnitude of star\n",
    "    - distance: distance to star in kpc\n",
    "    Calculate the absolute magnitude of star\n",
    "    '''\n",
    "    absm = []\n",
    "    absm.append(magnitude-5.0*np.log10(distance*1000)+5.0)\n",
    "    absm = np.squeeze(np.array(absm))\n",
    "    return absm\n",
    "\n",
    "stardist = dist2LMC(clndr16['RA'],clndr16['DEC'],82.25, -69.5, 146.37, 27.81)\n",
    "corabsH = absmag(clndr16['H'],stardist)-clndr16['AK_TARG']\n",
    "corabsK = absmag(clndr16['K'],stardist)-clndr16['AK_TARG']"
   ]
  },
  {
   "cell_type": "code",
   "execution_count": 135,
   "metadata": {},
   "outputs": [
    {
     "ename": "NameError",
     "evalue": "name 'interpolate' is not defined",
     "output_type": "error",
     "traceback": [
      "\u001b[0;31m---------------------------------------------------------------------------\u001b[0m",
      "\u001b[0;31mNameError\u001b[0m                                 Traceback (most recent call last)",
      "\u001b[0;32m<ipython-input-135-e84975c4907f>\u001b[0m in \u001b[0;36m<module>\u001b[0;34m\u001b[0m\n\u001b[0;32m----> 1\u001b[0;31m \u001b[0mhelp\u001b[0m\u001b[0;34m(\u001b[0m\u001b[0minterpolate\u001b[0m\u001b[0;34m.\u001b[0m\u001b[0mextrap1d\u001b[0m\u001b[0;34m)\u001b[0m\u001b[0;34m\u001b[0m\u001b[0;34m\u001b[0m\u001b[0m\n\u001b[0m",
      "\u001b[0;31mNameError\u001b[0m: name 'interpolate' is not defined"
     ]
    }
   ],
   "source": []
  },
  {
   "cell_type": "code",
   "execution_count": 158,
   "metadata": {},
   "outputs": [
    {
     "name": "stdout",
     "output_type": "stream",
     "text": [
      "318542818.3535509\n"
     ]
    }
   ],
   "source": [
    "#Field LMC9\n",
    "\n",
    "lmc9 = np.where(clndr16['FIELD']=='LMC9')\n",
    "\n",
    "print(apogee_field_mass(8.7,-0.6,max(corabsH[lmc9]),min(corabsH[lmc9]),clndr16[lmc9]['SELECTFUNC'][0],\\\n",
    "                  len(np.squeeze(lmc9)),'/Users/joshpovick/Desktop/Research/Magellanic_Ages/logisochrones.dat'))\n",
    "\n",
    "\n"
   ]
  },
  {
   "cell_type": "code",
   "execution_count": 7,
   "metadata": {},
   "outputs": [
    {
     "ename": "NameError",
     "evalue": "name 'z_iso' is not defined",
     "output_type": "error",
     "traceback": [
      "\u001b[0;31m---------------------------------------------------------------------------\u001b[0m",
      "\u001b[0;31mNameError\u001b[0m                                 Traceback (most recent call last)",
      "\u001b[0;32m<ipython-input-7-c3e24ac08a2d>\u001b[0m in \u001b[0;36m<module>\u001b[0;34m\u001b[0m\n\u001b[0;32m----> 1\u001b[0;31m \u001b[0msingle_iso\u001b[0m \u001b[0;34m=\u001b[0m \u001b[0mnp\u001b[0m\u001b[0;34m.\u001b[0m\u001b[0mwhere\u001b[0m\u001b[0;34m(\u001b[0m\u001b[0;34m(\u001b[0m\u001b[0mparsec\u001b[0m\u001b[0;34m[\u001b[0m\u001b[0;34m'Zini'\u001b[0m\u001b[0;34m]\u001b[0m\u001b[0;34m==\u001b[0m\u001b[0mz_iso\u001b[0m\u001b[0;34m)\u001b[0m\u001b[0;34m&\u001b[0m\u001b[0;34m(\u001b[0m\u001b[0mparsec\u001b[0m\u001b[0;34m[\u001b[0m\u001b[0;34m'logAge'\u001b[0m\u001b[0;34m]\u001b[0m\u001b[0;34m==\u001b[0m\u001b[0mage_iso\u001b[0m\u001b[0;34m)\u001b[0m\u001b[0;34m&\u001b[0m\u001b[0;34m(\u001b[0m\u001b[0mparsec\u001b[0m\u001b[0;34m[\u001b[0m\u001b[0;34m'Hmag'\u001b[0m\u001b[0;34m]\u001b[0m\u001b[0;34m<=\u001b[0m\u001b[0mmaxabsH\u001b[0m\u001b[0;34m)\u001b[0m\u001b[0;34m)\u001b[0m\u001b[0;34m\u001b[0m\u001b[0;34m\u001b[0m\u001b[0m\n\u001b[0m\u001b[1;32m      2\u001b[0m \u001b[0;31m#parsec[single_iso]['Hmag']\u001b[0m\u001b[0;34m\u001b[0m\u001b[0;34m\u001b[0m\u001b[0;34m\u001b[0m\u001b[0m\n",
      "\u001b[0;31mNameError\u001b[0m: name 'z_iso' is not defined"
     ]
    }
   ],
   "source": [
    "single_iso = np.where((parsec['Zini']==z_iso)&(parsec['logAge']==age_iso)&(parsec['Hmag']<=maxabsH))\n",
    "#parsec[single_iso]['Hmag']"
   ]
  },
  {
   "cell_type": "code",
   "execution_count": 157,
   "metadata": {},
   "outputs": [
    {
     "name": "stdout",
     "output_type": "stream",
     "text": [
      "318542818.3535509\n"
     ]
    }
   ],
   "source": [
    "metallicity = -0.6\n",
    "age = 9.1\n",
    "maxabsH = max(corabsH[lmc9])\n",
    "minabsH = min(corabsH[lmc9])\n",
    "number = len(clndr16[lmc9])\n",
    "selectfunc = clndr16[lmc9]['SELECTFUNC'][0]\n",
    "    \n",
    "    ###Load in isochrones from parsec\n",
    "parsecall = ascii.read('/Users/joshpovick/Desktop/Research/Magellanic_Ages/logisochrones.dat', format='basic', delimiter='\\s')\n",
    "rgb = np.where(parsecall['label']==3)\n",
    "parsec = parsecall#[rgb]\n",
    "    \n",
    "    #find closest parsec isochrone z fraction\n",
    "    \n",
    "parsec_mets = np.unique(np.asarray((np.log10(parsec['Zini']/0.02))))\n",
    "met_index = np.absolute(parsec_mets-metallicity*np.ones(len(parsec_mets))).argmin()\n",
    "z_iso = 0.02*(10**parsec_mets[met_index])\n",
    "    \n",
    "    #find closest parsec isochrone age\n",
    "age = np.log10(age*(10**9))\n",
    "parsec_ages = np.unique(np.asarray(parsec['logAge']))\n",
    "age_index = np.absolute(parsec_ages-age*np.ones(len(parsec_ages))).argmin()\n",
    "age_iso = parsec_ages[age_index]\n",
    "    \n",
    "    #pick out isochrone, interpolate, and find difference\n",
    "single_iso = np.where((parsec['Zini']==z_iso)&(parsec['logAge']==age_iso)&(parsec['Hmag']<=maxabsH))\n",
    "\n",
    "upto = np.where(parsec[single_iso]['Hmag']==min(parsec[single_iso]['Hmag']))\n",
    "new_parsec = parsec[single_iso][0:int(np.squeeze(upto))]\n",
    "    \n",
    "inter_iso = interp1d(new_parsec['Hmag'][::-1],new_parsec['int_IMF'][::-1],kind='linear',bounds_error=False,\n",
    "                         fill_value='extrapolate',assume_sorted=False) #fill_value=(np.nan,np.nan)\n",
    "    \n",
    "\n",
    "# def extrap1d(interpolator):\n",
    "#     xs = interpolator.x\n",
    "#     ys = interpolator.y\n",
    "\n",
    "#     def pointwise(x):\n",
    "#         if x < xs[0]:\n",
    "#             return ys[0]+(x-xs[0])*(ys[1]-ys[0])/(xs[1]-xs[0])\n",
    "#         elif x > xs[-1]:\n",
    "#             return ys[-1]+(x-xs[-1])*(ys[-1]-ys[-2])/(xs[-1]-xs[-2])\n",
    "#         else:\n",
    "#             return interpolator(x)\n",
    "\n",
    "#     def ufunclike(xs):\n",
    "#         return np.array(map(pointwise, np.array(xs)))\n",
    "\n",
    "#     return ufunclike\n",
    "    \n",
    "# ex = extrap1d(inter_iso)\n",
    "\n",
    "\n",
    "diff_IMF = np.absolute(inter_iso(maxabsH)-inter_iso(minabsH))\n",
    "    \n",
    "print((selectfunc*number)/diff_IMF)"
   ]
  },
  {
   "cell_type": "code",
   "execution_count": 152,
   "metadata": {},
   "outputs": [
    {
     "ename": "TypeError",
     "evalue": "iteration over a 0-d array",
     "output_type": "error",
     "traceback": [
      "\u001b[0;31m---------------------------------------------------------------------------\u001b[0m",
      "\u001b[0;31mTypeError\u001b[0m                                 Traceback (most recent call last)",
      "\u001b[0;32m<ipython-input-152-286913ed361e>\u001b[0m in \u001b[0;36m<module>\u001b[0;34m\u001b[0m\n\u001b[0;32m----> 1\u001b[0;31m \u001b[0mlist\u001b[0m\u001b[0;34m(\u001b[0m\u001b[0mex\u001b[0m\u001b[0;34m(\u001b[0m\u001b[0mminabsH\u001b[0m\u001b[0;34m)\u001b[0m\u001b[0;34m)\u001b[0m\u001b[0;34m\u001b[0m\u001b[0;34m\u001b[0m\u001b[0m\n\u001b[0m",
      "\u001b[0;32m<ipython-input-145-e881a37a098b>\u001b[0m in \u001b[0;36mufunclike\u001b[0;34m(xs)\u001b[0m\n\u001b[1;32m     44\u001b[0m \u001b[0;34m\u001b[0m\u001b[0m\n\u001b[1;32m     45\u001b[0m     \u001b[0;32mdef\u001b[0m \u001b[0mufunclike\u001b[0m\u001b[0;34m(\u001b[0m\u001b[0mxs\u001b[0m\u001b[0;34m)\u001b[0m\u001b[0;34m:\u001b[0m\u001b[0;34m\u001b[0m\u001b[0;34m\u001b[0m\u001b[0m\n\u001b[0;32m---> 46\u001b[0;31m         \u001b[0;32mreturn\u001b[0m \u001b[0mnp\u001b[0m\u001b[0;34m.\u001b[0m\u001b[0marray\u001b[0m\u001b[0;34m(\u001b[0m\u001b[0mmap\u001b[0m\u001b[0;34m(\u001b[0m\u001b[0mpointwise\u001b[0m\u001b[0;34m,\u001b[0m \u001b[0mnp\u001b[0m\u001b[0;34m.\u001b[0m\u001b[0marray\u001b[0m\u001b[0;34m(\u001b[0m\u001b[0mxs\u001b[0m\u001b[0;34m)\u001b[0m\u001b[0;34m)\u001b[0m\u001b[0;34m)\u001b[0m\u001b[0;34m\u001b[0m\u001b[0;34m\u001b[0m\u001b[0m\n\u001b[0m\u001b[1;32m     47\u001b[0m \u001b[0;34m\u001b[0m\u001b[0m\n\u001b[1;32m     48\u001b[0m     \u001b[0;32mreturn\u001b[0m \u001b[0mufunclike\u001b[0m\u001b[0;34m\u001b[0m\u001b[0;34m\u001b[0m\u001b[0m\n",
      "\u001b[0;31mTypeError\u001b[0m: iteration over a 0-d array"
     ]
    }
   ],
   "source": [
    "list(ex(minabsH))"
   ]
  },
  {
   "cell_type": "code",
   "execution_count": 102,
   "metadata": {},
   "outputs": [
    {
     "name": "stdout",
     "output_type": "stream",
     "text": [
      "{-6.027: (array([2, 8]),)}\n"
     ]
    }
   ],
   "source": [
    "a,b = dups(parsec[single_iso]['Hmag'])\n",
    "print(b)"
   ]
  },
  {
   "cell_type": "code",
   "execution_count": 126,
   "metadata": {},
   "outputs": [
    {
     "data": {
      "text/plain": [
       "range(0, 5)"
      ]
     },
     "execution_count": 126,
     "metadata": {},
     "output_type": "execute_result"
    }
   ],
   "source": [
    "test = np.where(parsec[single_iso]['Hmag']==min(parsec[single_iso]['Hmag']))\n",
    "    \n",
    "range(10)[0:int(np.squeeze(test))]"
   ]
  },
  {
   "cell_type": "code",
   "execution_count": 108,
   "metadata": {},
   "outputs": [
    {
     "data": {
      "image/png": "[encoded data removed]",
      "text/plain": [
       "<Figure size 432x288 with 1 Axes>"
      ]
     },
     "metadata": {
      "needs_background": "light"
     },
     "output_type": "display_data"
    },
    {
     "name": "stdout",
     "output_type": "stream",
     "text": [
      "-6.333\n",
      "-6.333\n"
     ]
    }
   ],
   "source": [
    "plt.scatter(range(len(parsec[single_iso]['Hmag'])),parsec[single_iso]['Hmag'])\n",
    "for j in range(len(parsec[single_iso])):\n",
    "    plt.text(range(len(parsec[single_iso]['Hmag']))[j]*(1.0-0.001),\n",
    "             parsec[single_iso]['Hmag'][j]*(1.0-0.001),range(len(parsec[single_iso]))[j],\n",
    "             fontsize=14)\n",
    "plt.axhline(-6.027)\n",
    "plt.show()\n",
    "\n",
    "print(min(parsec[single_iso]['Hmag']))\n",
    "print(parsec[single_iso]['Hmag'][5])"
   ]
  },
  {
   "cell_type": "code",
   "execution_count": 16,
   "metadata": {},
   "outputs": [],
   "source": [
    "import pandas as pd"
   ]
  },
  {
   "cell_type": "code",
   "execution_count": 20,
   "metadata": {},
   "outputs": [
    {
     "data": {
      "text/html": [
       "<div>\n",
       "<style scoped>\n",
       "    .dataframe tbody tr th:only-of-type {\n",
       "        vertical-align: middle;\n",
       "    }\n",
       "\n",
       "    .dataframe tbody tr th {\n",
       "        vertical-align: top;\n",
       "    }\n",
       "\n",
       "    .dataframe thead th {\n",
       "        text-align: right;\n",
       "    }\n",
       "</style>\n",
       "<table border=\"1\" class=\"dataframe\">\n",
       "  <thead>\n",
       "    <tr style=\"text-align: right;\">\n",
       "      <th></th>\n",
       "      <th>Zini</th>\n",
       "      <th>logAge</th>\n",
       "      <th>Mini</th>\n",
       "      <th>int_IMF</th>\n",
       "      <th>Mass</th>\n",
       "      <th>logL</th>\n",
       "      <th>logTe</th>\n",
       "      <th>logg</th>\n",
       "      <th>label</th>\n",
       "      <th>McoreTP</th>\n",
       "      <th>...</th>\n",
       "      <th>Y</th>\n",
       "      <th>Xc</th>\n",
       "      <th>Xn</th>\n",
       "      <th>Xo</th>\n",
       "      <th>Cexcess</th>\n",
       "      <th>Z</th>\n",
       "      <th>mbolmag</th>\n",
       "      <th>Jmag</th>\n",
       "      <th>Hmag</th>\n",
       "      <th>Ksmag</th>\n",
       "    </tr>\n",
       "  </thead>\n",
       "  <tbody>\n",
       "    <tr>\n",
       "      <th>5</th>\n",
       "      <td>0.004605</td>\n",
       "      <td>9.95</td>\n",
       "      <td>0.963938</td>\n",
       "      <td>2.465041</td>\n",
       "      <td>0.887</td>\n",
       "      <td>3.373</td>\n",
       "      <td>3.5449</td>\n",
       "      <td>0.144</td>\n",
       "      <td>3</td>\n",
       "      <td>0.0</td>\n",
       "      <td>...</td>\n",
       "      <td>0.2723</td>\n",
       "      <td>0.000705</td>\n",
       "      <td>0.000346</td>\n",
       "      <td>0.002036</td>\n",
       "      <td>-1.0</td>\n",
       "      <td>0.004675</td>\n",
       "      <td>-3.663</td>\n",
       "      <td>-5.413</td>\n",
       "      <td>-6.333</td>\n",
       "      <td>-6.604</td>\n",
       "    </tr>\n",
       "    <tr>\n",
       "      <th>4</th>\n",
       "      <td>0.004605</td>\n",
       "      <td>9.95</td>\n",
       "      <td>0.963930</td>\n",
       "      <td>2.465039</td>\n",
       "      <td>0.894</td>\n",
       "      <td>3.339</td>\n",
       "      <td>3.5485</td>\n",
       "      <td>0.196</td>\n",
       "      <td>3</td>\n",
       "      <td>0.0</td>\n",
       "      <td>...</td>\n",
       "      <td>0.2723</td>\n",
       "      <td>0.000705</td>\n",
       "      <td>0.000346</td>\n",
       "      <td>0.002036</td>\n",
       "      <td>-1.0</td>\n",
       "      <td>0.004675</td>\n",
       "      <td>-3.577</td>\n",
       "      <td>-5.317</td>\n",
       "      <td>-6.230</td>\n",
       "      <td>-6.494</td>\n",
       "    </tr>\n",
       "    <tr>\n",
       "      <th>10</th>\n",
       "      <td>0.004605</td>\n",
       "      <td>9.95</td>\n",
       "      <td>0.967322</td>\n",
       "      <td>2.465808</td>\n",
       "      <td>0.627</td>\n",
       "      <td>3.309</td>\n",
       "      <td>3.5523</td>\n",
       "      <td>0.087</td>\n",
       "      <td>7</td>\n",
       "      <td>0.0</td>\n",
       "      <td>...</td>\n",
       "      <td>0.2684</td>\n",
       "      <td>0.000694</td>\n",
       "      <td>0.000355</td>\n",
       "      <td>0.002030</td>\n",
       "      <td>-1.0</td>\n",
       "      <td>0.005906</td>\n",
       "      <td>-3.503</td>\n",
       "      <td>-5.234</td>\n",
       "      <td>-6.135</td>\n",
       "      <td>-6.402</td>\n",
       "    </tr>\n",
       "    <tr>\n",
       "      <th>3</th>\n",
       "      <td>0.004605</td>\n",
       "      <td>9.95</td>\n",
       "      <td>0.963922</td>\n",
       "      <td>2.465037</td>\n",
       "      <td>0.899</td>\n",
       "      <td>3.306</td>\n",
       "      <td>3.5520</td>\n",
       "      <td>0.245</td>\n",
       "      <td>3</td>\n",
       "      <td>0.0</td>\n",
       "      <td>...</td>\n",
       "      <td>0.2723</td>\n",
       "      <td>0.000705</td>\n",
       "      <td>0.000346</td>\n",
       "      <td>0.002036</td>\n",
       "      <td>-1.0</td>\n",
       "      <td>0.004675</td>\n",
       "      <td>-3.495</td>\n",
       "      <td>-5.226</td>\n",
       "      <td>-6.132</td>\n",
       "      <td>-6.389</td>\n",
       "    </tr>\n",
       "    <tr>\n",
       "      <th>9</th>\n",
       "      <td>0.004605</td>\n",
       "      <td>9.95</td>\n",
       "      <td>0.967321</td>\n",
       "      <td>2.465808</td>\n",
       "      <td>0.637</td>\n",
       "      <td>3.297</td>\n",
       "      <td>3.5484</td>\n",
       "      <td>0.090</td>\n",
       "      <td>7</td>\n",
       "      <td>0.0</td>\n",
       "      <td>...</td>\n",
       "      <td>0.2684</td>\n",
       "      <td>0.000694</td>\n",
       "      <td>0.000355</td>\n",
       "      <td>0.002030</td>\n",
       "      <td>-1.0</td>\n",
       "      <td>0.005906</td>\n",
       "      <td>-3.473</td>\n",
       "      <td>-5.213</td>\n",
       "      <td>-6.124</td>\n",
       "      <td>-6.396</td>\n",
       "    </tr>\n",
       "    <tr>\n",
       "      <th>2</th>\n",
       "      <td>0.004605</td>\n",
       "      <td>9.95</td>\n",
       "      <td>0.963914</td>\n",
       "      <td>2.465035</td>\n",
       "      <td>0.904</td>\n",
       "      <td>3.271</td>\n",
       "      <td>3.5556</td>\n",
       "      <td>0.297</td>\n",
       "      <td>3</td>\n",
       "      <td>0.0</td>\n",
       "      <td>...</td>\n",
       "      <td>0.2723</td>\n",
       "      <td>0.000705</td>\n",
       "      <td>0.000346</td>\n",
       "      <td>0.002036</td>\n",
       "      <td>-1.0</td>\n",
       "      <td>0.004675</td>\n",
       "      <td>-3.408</td>\n",
       "      <td>-5.129</td>\n",
       "      <td>-6.027</td>\n",
       "      <td>-6.279</td>\n",
       "    </tr>\n",
       "    <tr>\n",
       "      <th>8</th>\n",
       "      <td>0.004605</td>\n",
       "      <td>9.95</td>\n",
       "      <td>0.967321</td>\n",
       "      <td>2.465808</td>\n",
       "      <td>0.651</td>\n",
       "      <td>3.260</td>\n",
       "      <td>3.5497</td>\n",
       "      <td>0.142</td>\n",
       "      <td>7</td>\n",
       "      <td>0.0</td>\n",
       "      <td>...</td>\n",
       "      <td>0.2684</td>\n",
       "      <td>0.000694</td>\n",
       "      <td>0.000354</td>\n",
       "      <td>0.002030</td>\n",
       "      <td>-1.0</td>\n",
       "      <td>0.005913</td>\n",
       "      <td>-3.381</td>\n",
       "      <td>-5.117</td>\n",
       "      <td>-6.027</td>\n",
       "      <td>-6.294</td>\n",
       "    </tr>\n",
       "    <tr>\n",
       "      <th>7</th>\n",
       "      <td>0.004605</td>\n",
       "      <td>9.95</td>\n",
       "      <td>0.967320</td>\n",
       "      <td>2.465808</td>\n",
       "      <td>0.658</td>\n",
       "      <td>3.232</td>\n",
       "      <td>3.5524</td>\n",
       "      <td>0.186</td>\n",
       "      <td>7</td>\n",
       "      <td>0.0</td>\n",
       "      <td>...</td>\n",
       "      <td>0.2684</td>\n",
       "      <td>0.000695</td>\n",
       "      <td>0.000354</td>\n",
       "      <td>0.002030</td>\n",
       "      <td>-1.0</td>\n",
       "      <td>0.005920</td>\n",
       "      <td>-3.310</td>\n",
       "      <td>-5.039</td>\n",
       "      <td>-5.943</td>\n",
       "      <td>-6.204</td>\n",
       "    </tr>\n",
       "    <tr>\n",
       "      <th>1</th>\n",
       "      <td>0.004605</td>\n",
       "      <td>9.95</td>\n",
       "      <td>0.963906</td>\n",
       "      <td>2.465033</td>\n",
       "      <td>0.908</td>\n",
       "      <td>3.237</td>\n",
       "      <td>3.5591</td>\n",
       "      <td>0.348</td>\n",
       "      <td>3</td>\n",
       "      <td>0.0</td>\n",
       "      <td>...</td>\n",
       "      <td>0.2723</td>\n",
       "      <td>0.000705</td>\n",
       "      <td>0.000346</td>\n",
       "      <td>0.002036</td>\n",
       "      <td>-1.0</td>\n",
       "      <td>0.004675</td>\n",
       "      <td>-3.322</td>\n",
       "      <td>-5.033</td>\n",
       "      <td>-5.924</td>\n",
       "      <td>-6.169</td>\n",
       "    </tr>\n",
       "    <tr>\n",
       "      <th>6</th>\n",
       "      <td>0.004605</td>\n",
       "      <td>9.95</td>\n",
       "      <td>0.967320</td>\n",
       "      <td>2.465808</td>\n",
       "      <td>0.662</td>\n",
       "      <td>3.206</td>\n",
       "      <td>3.5552</td>\n",
       "      <td>0.225</td>\n",
       "      <td>7</td>\n",
       "      <td>0.0</td>\n",
       "      <td>...</td>\n",
       "      <td>0.2684</td>\n",
       "      <td>0.000695</td>\n",
       "      <td>0.000354</td>\n",
       "      <td>0.002030</td>\n",
       "      <td>-1.0</td>\n",
       "      <td>0.005929</td>\n",
       "      <td>-3.245</td>\n",
       "      <td>-4.968</td>\n",
       "      <td>-5.865</td>\n",
       "      <td>-6.121</td>\n",
       "    </tr>\n",
       "    <tr>\n",
       "      <th>0</th>\n",
       "      <td>0.004605</td>\n",
       "      <td>9.95</td>\n",
       "      <td>0.963896</td>\n",
       "      <td>2.465031</td>\n",
       "      <td>0.913</td>\n",
       "      <td>3.202</td>\n",
       "      <td>3.5627</td>\n",
       "      <td>0.399</td>\n",
       "      <td>3</td>\n",
       "      <td>0.0</td>\n",
       "      <td>...</td>\n",
       "      <td>0.2723</td>\n",
       "      <td>0.000705</td>\n",
       "      <td>0.000346</td>\n",
       "      <td>0.002036</td>\n",
       "      <td>-1.0</td>\n",
       "      <td>0.004675</td>\n",
       "      <td>-3.234</td>\n",
       "      <td>-4.937</td>\n",
       "      <td>-5.819</td>\n",
       "      <td>-6.058</td>\n",
       "    </tr>\n",
       "  </tbody>\n",
       "</table>\n",
       "<p>11 rows × 27 columns</p>\n",
       "</div>"
      ],
      "text/plain": [
       "        Zini  logAge      Mini   int_IMF   Mass   logL   logTe   logg  label  \\\n",
       "5   0.004605    9.95  0.963938  2.465041  0.887  3.373  3.5449  0.144      3   \n",
       "4   0.004605    9.95  0.963930  2.465039  0.894  3.339  3.5485  0.196      3   \n",
       "10  0.004605    9.95  0.967322  2.465808  0.627  3.309  3.5523  0.087      7   \n",
       "3   0.004605    9.95  0.963922  2.465037  0.899  3.306  3.5520  0.245      3   \n",
       "9   0.004605    9.95  0.967321  2.465808  0.637  3.297  3.5484  0.090      7   \n",
       "2   0.004605    9.95  0.963914  2.465035  0.904  3.271  3.5556  0.297      3   \n",
       "8   0.004605    9.95  0.967321  2.465808  0.651  3.260  3.5497  0.142      7   \n",
       "7   0.004605    9.95  0.967320  2.465808  0.658  3.232  3.5524  0.186      7   \n",
       "1   0.004605    9.95  0.963906  2.465033  0.908  3.237  3.5591  0.348      3   \n",
       "6   0.004605    9.95  0.967320  2.465808  0.662  3.206  3.5552  0.225      7   \n",
       "0   0.004605    9.95  0.963896  2.465031  0.913  3.202  3.5627  0.399      3   \n",
       "\n",
       "    McoreTP  ...         Y        Xc        Xn        Xo  Cexcess         Z  \\\n",
       "5       0.0  ...    0.2723  0.000705  0.000346  0.002036     -1.0  0.004675   \n",
       "4       0.0  ...    0.2723  0.000705  0.000346  0.002036     -1.0  0.004675   \n",
       "10      0.0  ...    0.2684  0.000694  0.000355  0.002030     -1.0  0.005906   \n",
       "3       0.0  ...    0.2723  0.000705  0.000346  0.002036     -1.0  0.004675   \n",
       "9       0.0  ...    0.2684  0.000694  0.000355  0.002030     -1.0  0.005906   \n",
       "2       0.0  ...    0.2723  0.000705  0.000346  0.002036     -1.0  0.004675   \n",
       "8       0.0  ...    0.2684  0.000694  0.000354  0.002030     -1.0  0.005913   \n",
       "7       0.0  ...    0.2684  0.000695  0.000354  0.002030     -1.0  0.005920   \n",
       "1       0.0  ...    0.2723  0.000705  0.000346  0.002036     -1.0  0.004675   \n",
       "6       0.0  ...    0.2684  0.000695  0.000354  0.002030     -1.0  0.005929   \n",
       "0       0.0  ...    0.2723  0.000705  0.000346  0.002036     -1.0  0.004675   \n",
       "\n",
       "    mbolmag   Jmag   Hmag  Ksmag  \n",
       "5    -3.663 -5.413 -6.333 -6.604  \n",
       "4    -3.577 -5.317 -6.230 -6.494  \n",
       "10   -3.503 -5.234 -6.135 -6.402  \n",
       "3    -3.495 -5.226 -6.132 -6.389  \n",
       "9    -3.473 -5.213 -6.124 -6.396  \n",
       "2    -3.408 -5.129 -6.027 -6.279  \n",
       "8    -3.381 -5.117 -6.027 -6.294  \n",
       "7    -3.310 -5.039 -5.943 -6.204  \n",
       "1    -3.322 -5.033 -5.924 -6.169  \n",
       "6    -3.245 -4.968 -5.865 -6.121  \n",
       "0    -3.234 -4.937 -5.819 -6.058  \n",
       "\n",
       "[11 rows x 27 columns]"
      ]
     },
     "execution_count": 20,
     "metadata": {},
     "output_type": "execute_result"
    }
   ],
   "source": [
    "(Table(parsec[single_iso]).to_pandas()).sort_values(by='Hmag')"
   ]
  },
  {
   "cell_type": "code",
   "execution_count": 44,
   "metadata": {},
   "outputs": [],
   "source": [
    "ordered = (Table(parsec[single_iso]).to_pandas()).sort_values(by='Hmag')\n",
    "\n",
    "points = zip(parsec[single_iso]['Hmag'],parsec[single_iso]['int_IMF'])\n",
    "points = sorted(points, key=lambda point: point[0])\n",
    "x1, y1 = zip(*points)\n",
    "\n",
    "inter_iso = interp1d(x1,y1,kind='slinear',bounds_error=True,fill_value=(np.nan,np.nan),assume_sorted=False)"
   ]
  },
  {
   "cell_type": "code",
   "execution_count": 43,
   "metadata": {},
   "outputs": [
    {
     "name": "stdout",
     "output_type": "stream",
     "text": [
      "(-6.333, -6.23, -6.135, -6.132, -6.124, -6.027, -6.027, -5.943, -5.924, -5.865, -5.819)\n",
      "(2.4650406837, 2.4650387764, 2.4658083916, 2.4650371075, 2.4658083916, 2.4650352001, 2.4658081532, 2.4658081532, 2.4650332928, 2.4658081532, 2.4650313854)\n"
     ]
    }
   ],
   "source": [
    "from scipy.interpolate import CubicSpline\n",
    "# CubicSpline(x1,y1)\n",
    "print(x1)\n",
    "print(y1)"
   ]
  },
  {
   "cell_type": "code",
   "execution_count": 53,
   "metadata": {},
   "outputs": [
    {
     "data": {
      "text/plain": [
       "148402"
      ]
     },
     "execution_count": 53,
     "metadata": {},
     "output_type": "execute_result"
    }
   ],
   "source": [
    "len(parsecall)"
   ]
  },
  {
   "cell_type": "code",
   "execution_count": 114,
   "metadata": {},
   "outputs": [
    {
     "data": {
      "image/png": "[encoded data removed]",
      "text/plain": [
       "<Figure size 432x288 with 1 Axes>"
      ]
     },
     "metadata": {
      "needs_background": "light"
     },
     "output_type": "display_data"
    },
    {
     "data": {
      "image/png": "[encoded data removed]",
      "text/plain": [
       "<Figure size 720x720 with 1 Axes>"
      ]
     },
     "metadata": {
      "needs_background": "light"
     },
     "output_type": "display_data"
    },
    {
     "data": {
      "image/png": "[encoded data removed]",
      "text/plain": [
       "<Figure size 720x720 with 1 Axes>"
      ]
     },
     "metadata": {
      "needs_background": "light"
     },
     "output_type": "display_data"
    }
   ],
   "source": [
    "plt.scatter(x1,y1)\n",
    "plt.show()\n",
    "\n",
    "whole = np.where((parsecall['logAge'] == age_iso)&(parsecall['Zini'] == z_iso))\n",
    "\n",
    "plt.figure(figsize=[10,10])\n",
    "plt.scatter(parsecall[whole]['logTe'],parsecall[whole]['logg'])\n",
    "plt.scatter(parsec[single_iso]['logTe'],parsec[single_iso]['logg'],c='r')\n",
    "for j in range(len(parsec[single_iso])):\n",
    "    plt.text(parsec[single_iso]['logTe'][j]*(1.0),\n",
    "             parsec[single_iso]['logg'][j]*(1.0),range(len(parsec[single_iso]))[j],\n",
    "             fontsize=14)\n",
    "plt.xlim(3.5,3.65)\n",
    "plt.ylim(0,1)\n",
    "plt.gca().invert_xaxis()\n",
    "plt.gca().invert_yaxis()\n",
    "plt.show()\n",
    "\n",
    "# plt.scatter(parsecall[whole]['logTe'],parsecall[whole]['logg'])\n",
    "plt.figure(figsize=[10,10])\n",
    "plt.scatter(parsecall[whole]['Hmag'],parsecall[whole]['logg'])\n",
    "plt.scatter(parsec[single_iso]['Hmag'],parsec[single_iso]['logg'],c='r')\n",
    "for j in range(len(parsec[single_iso])):\n",
    "    plt.text(parsec[single_iso]['Hmag'][j]*(1.0),\n",
    "             parsec[single_iso]['logg'][j]*(1.0),range(len(parsec[single_iso]))[j],\n",
    "             fontsize=14)\n",
    "plt.xlim(-7,-5)\n",
    "plt.ylim(0,1)\n",
    "plt.gca().invert_xaxis()\n",
    "plt.gca().invert_yaxis()\n",
    "plt.axvline(-6.027)\n",
    "plt.show()"
   ]
  },
  {
   "cell_type": "code",
   "execution_count": 85,
   "metadata": {},
   "outputs": [
    {
     "name": "stdout",
     "output_type": "stream",
     "text": [
      "(-6.333, -6.23, -6.135, -6.132, -6.124, -6.027, -6.027, -5.943, -5.924, -5.865, -5.819)\n",
      "(2.4650406837, 2.4650387764, 2.4658083916, 2.4650371075, 2.4658083916, 2.4650352001, 2.4658081532, 2.4658081532, 2.4650332928, 2.4658081532, 2.4650313854)\n"
     ]
    }
   ],
   "source": [
    "np.sort(np.asarray(parsec[single_iso]['Hmag']))\n",
    "print(x1)\n",
    "print(y1)"
   ]
  },
  {
   "cell_type": "code",
   "execution_count": null,
   "metadata": {},
   "outputs": [],
   "source": [
    "test1 = np.where(parsec['Zini']==z_iso)\n",
    "test2 = np.where(parsec['logAge']==age_iso)\n",
    "test3 = np.where((parsec['Zini']==z_iso)&(parsec['logAge']==age_iso))\n",
    "test4 = np.where((parsec['Zini']==z_iso)&(parsec['logAge']==age_iso)&(parsec['label']==3))"
   ]
  },
  {
   "cell_type": "code",
   "execution_count": null,
   "metadata": {},
   "outputs": [],
   "source": [
    "print(len(np.squeeze(test1)))\n",
    "print(len(np.squeeze(test2)))\n",
    "print(len(np.squeeze(test3)))"
   ]
  },
  {
   "cell_type": "code",
   "execution_count": null,
   "metadata": {},
   "outputs": [],
   "source": [
    "plt.figure(figsize=[12,10])\n",
    "plt.scatter(np.log10(parsec['Zini'][test3]/0.02),parsec['logAge'][test3],c='k',cmap='jet')\n",
    "plt.ylabel(r'Log(Age) [yr]')\n",
    "plt.xlabel(r'[Fe/H]')\n",
    "plt.title(r'Metallicity Age Grid')\n",
    "# plt.savefig('PARSECgrid.pdf',bbox_inches='tight')\n",
    "plt.show()"
   ]
  },
  {
   "cell_type": "code",
   "execution_count": null,
   "metadata": {},
   "outputs": [],
   "source": [
    "plt.hist(parsec['Hmag'][test3])\n",
    "plt.show()\n",
    "\n",
    "reds = np.where(parsec['label']==3)\n",
    "plt.hist(parsec['Hmag'][reds])\n",
    "plt.show()\n",
    "\n",
    "plt.hist(parsec['Hmag'][test4])\n",
    "plt.show()"
   ]
  },
  {
   "cell_type": "code",
   "execution_count": null,
   "metadata": {},
   "outputs": [],
   "source": [
    "plt.hist(corabsH)"
   ]
  },
  {
   "cell_type": "code",
   "execution_count": null,
   "metadata": {},
   "outputs": [],
   "source": [
    "parsec.columns"
   ]
  },
  {
   "cell_type": "code",
   "execution_count": null,
   "metadata": {},
   "outputs": [],
   "source": [
    "metallicity = -0.89\n",
    "age = 10.1\n",
    "maxabsH = max(corabsH[lmc9])\n",
    "    \n",
    "###Load in isochrones from parsec\n",
    "parsecall = ascii.read('/Users/joshpovick/Desktop/Research/Magellanic_Ages/logisochrones.dat', format='basic',\n",
    "                       delimiter='\\s')\n",
    "rgb = np.where(parsecall['label']==3)\n",
    "parsec = parsecall[rgb]\n",
    "    \n",
    "#find closest parsec isochrone z fraction\n",
    "age = np.log10(age*(10**9))\n",
    "parsec_mets = np.unique(np.asarray((np.log10(parsec['Zini']/0.02))))\n",
    "met_index = np.absolute(parsec_mets-metallicity*np.ones(len(parsec_mets))).argmin()\n",
    "z_iso = 0.02*(10**parsec_mets[met_index])\n",
    "    \n",
    "#find closest parsec isochrone age\n",
    "parsec_ages = np.unique(np.asarray(parsec['logAge']))\n",
    "age_index = np.absolute(parsec_ages-age*np.ones(len(parsec_ages))).argmin()\n",
    "age_iso = parsec_ages[age_index]\n",
    "    \n",
    "#pick out isochrone\n",
    "test4 = np.where((parsec['Zini']==z_iso)&(parsec['logAge']==age_iso)&(parsec['label']==3))\n",
    "\n",
    "plt.hist(parsec['logTe'][test4],density=True,label='PARSEC')\n",
    "plt.hist(np.log10(clndr16['TEFF']),density=True,label='APOGEE',alpha=0.75)\n",
    "plt.legend()\n",
    "plt.title(r'$Log(T_{eff})$')\n",
    "plt.xlabel(r'$Log(T_{eff})$')\n",
    "plt.show()\n",
    "\n",
    "plt.hist(parsec['Hmag'][test4],density=True,label='PARSEC')\n",
    "plt.hist(corabsH,density=True,label='APOGEE',alpha=0.75)\n",
    "plt.legend()\n",
    "plt.title(r'H Magnitude')\n",
    "plt.xlabel(r'H')\n",
    "plt.show()\n",
    "\n",
    "plt.hist(parsec['Ksmag'][test4],density=True,label='PARSEC')\n",
    "plt.hist(corabsK,density=True,label='APOGEE',alpha=0.75)\n",
    "plt.legend()\n",
    "plt.title(r'K Magnitude')\n",
    "plt.xlabel(r'K')\n",
    "plt.show()\n",
    "\n",
    "plt.hist(np.log10(parsec['Zini'][test4]/0.02),density=True,label='PARSEC')\n",
    "plt.hist(clndr16['FE_H'],density=True,label='APOGEE',alpha=0.75)\n",
    "plt.legend()\n",
    "plt.title(r'Metallicity')\n",
    "plt.xlabel(r'[Fe/H]')\n",
    "plt.show()\n",
    "\n",
    "plt.hist(parsec['logg'][test4],density=True,label='PARSEC')\n",
    "plt.hist(clndr16['LOGG'],density=True,label='APOGEE',alpha=0.75)\n",
    "plt.legend()\n",
    "plt.title(r'Log(g)')\n",
    "plt.xlabel(r'Log(g)')\n",
    "plt.show()"
   ]
  },
  {
   "cell_type": "code",
   "execution_count": null,
   "metadata": {},
   "outputs": [],
   "source": [
    "plt.figure(figsize=[10,10])\n",
    "plt.scatter(clndr16['J']-clndr16['K'],clndr16['J']-clndr16['H'],c=clndr16['AK_TARG'],cmap='nipy_spectral',\n",
    "            alpha=0.5)"
   ]
  },
  {
   "cell_type": "code",
   "execution_count": null,
   "metadata": {},
   "outputs": [],
   "source": []
  }
 ],
 "metadata": {
  "kernelspec": {
   "display_name": "Python 3",
   "language": "python",
   "name": "python3"
  },
  "language_info": {
   "codemirror_mode": {
    "name": "ipython",
    "version": 3
   },
   "file_extension": ".py",
   "mimetype": "text/x-python",
   "name": "python",
   "nbconvert_exporter": "python",
   "pygments_lexer": "ipython3",
   "version": "3.7.1"
  }
 },
 "nbformat": 4,
 "nbformat_minor": 2
}
