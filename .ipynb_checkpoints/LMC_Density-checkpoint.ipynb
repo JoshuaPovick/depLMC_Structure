{
 "cells": [
  {
   "cell_type": "code",
   "execution_count": 1,
   "metadata": {},
   "outputs": [],
   "source": [
    "##################################\n",
    "### Import the usual libraries ###\n",
    "##################################\n",
    "\n",
    "### Numpy\n",
    "import numpy as np\n",
    "\n",
    "### Astropy\n",
    "import astropy\n",
    "\n",
    "#Astropy FITS/Table handling\n",
    "from astropy.io import fits, ascii\n",
    "from astropy.table import Table, Column\n",
    "\n",
    "#astropy coorindates/units\n",
    "from astropy.coordinates import SkyCoord\n",
    "import astropy.constants as const\n",
    "import astropy.units as u\n",
    "\n",
    "### Pandas\n",
    "import pandas as pd\n",
    "\n",
    "### Matplotlib\n",
    "import matplotlib\n",
    "import matplotlib.pyplot as plt\n",
    "%matplotlib inline\n",
    "#matplotlib.rcParams.update({'font.size': 20}) #make plots more readable\n",
    "\n",
    "### Yumi's RA/DEC ---> Magellanic Stream Coorindates\n",
    "import MagellanicStream as ms\n",
    "\n",
    "### Functions used in this code\n",
    "import density_functions as dfunc\n",
    "\n",
    "### Stuff Writtten by A Really Cool Professor\n",
    "import dlnpyutils as dlpu\n",
    "\n",
    "### Other\n",
    "import warnings\n",
    "warnings.filterwarnings('ignore')\n",
    "\n",
    "from tqdm import tqdm_notebook\n"
   ]
  },
  {
   "cell_type": "code",
   "execution_count": 173,
   "metadata": {},
   "outputs": [],
   "source": [
    "H0 = 74.03*(u.km/u.s)/u.Mpc\n",
    "hertz = H0.to(u.km/u.s/u.pc).to(u.km/u.s/u.km)\n",
    "tage = (1/hertz).to(u.yr)\n",
    "ageU = tage.value"
   ]
  },
  {
   "cell_type": "code",
   "execution_count": 2,
   "metadata": {},
   "outputs": [],
   "source": [
    "###################\n",
    "### Import Data ###\n",
    "###################\n",
    "\n",
    "#parsec\n",
    "''' Ages used 8 to 10.1 steps 0.15'''\n",
    "''' Metallicity used -2.6 to 0.1 steps 0.099'''\n",
    "\n",
    "parsecall = ascii.read('/Users/joshpovick/Desktop/Research/LMC_Structure/logisochrones.dat', \\\n",
    "                    format='basic', delimiter='\\s')\n",
    "\n",
    "rgb = np.where(parsecall['label']==3)\n",
    "parsec = parsecall[rgb]\n",
    "\n",
    "#DR16 r13\n",
    "lmcdr16 = fits.getdata('/Users/joshpovick/Desktop/Research/LMC_Structure/lmc_rgbmembers_r13-l33-58672.fits.gz',1)\n",
    "clnr = np.where((lmcdr16['FE_H']>-9999.0)&(lmcdr16['AK_TARG']>-9999.0)&(lmcdr16['LOGG']>0.0)&\\\n",
    "                (lmcdr16['M_H_ERR']>-90.0)&(lmcdr16['C_FE']>-9999.0)&(lmcdr16['N_FE']>-9999.0))\n",
    "\n",
    "clndr16 = lmcdr16[clnr]\n",
    "\n",
    "#Transform APOGEE RA and DEC to Magellanic Stream L and B\n",
    "c_icrs = SkyCoord(ra=clndr16['RA']*u.degree, dec=clndr16['DEC']*u.degree)\n",
    "c_ms = c_icrs.transform_to(ms.MagellanicStream)\n",
    "ms_lg,ms_bg = c_ms.MSLongitude.degree, c_ms.MSLatitude.degree\n",
    "\n",
    "for i in range(len(ms_lg)):\n",
    "    if ms_lg[i] - 360 < -180:\n",
    "        ms_lg[i] += 360.0"
   ]
  },
  {
   "cell_type": "code",
   "execution_count": 252,
   "metadata": {},
   "outputs": [
    {
     "data": {
      "text/plain": [
       "(array([], dtype=int64),)"
      ]
     },
     "execution_count": 252,
     "metadata": {},
     "output_type": "execute_result"
    }
   ],
   "source": [
    "np.where(clndr16['FIELD']=='LMC15')"
   ]
  },
  {
   "cell_type": "code",
   "execution_count": 189,
   "metadata": {},
   "outputs": [],
   "source": [
    "### blue loop cut\n",
    "bloop = np.where((clndr16['TEFF']>=4100)&(clndr16['H']<=13.0)&((clndr16['J']-clndr16['K'])<=0.95))\n",
    "\n",
    "bloop_cut = []\n",
    "for i in range(len(clndr16)):\n",
    "    if i not in np.squeeze(bloop).tolist():\n",
    "        bloop_cut.append(i)\n",
    "        \n",
    "bloopdr16 = clndr16[bloop_cut]\n",
    "bloopage = parage[bloop_cut]\n",
    "fbins = dfunc.brtfntlmc_bins(bloopdr16)"
   ]
  },
  {
   "cell_type": "code",
   "execution_count": 190,
   "metadata": {},
   "outputs": [],
   "source": [
    "####################################\n",
    "### Calculate APOGEE Field Areas ###\n",
    "####################################\n",
    "\n",
    "# Calculate area in kpc^2\n",
    "areas = []\n",
    "fields = ['30Dor','LMC1','LMC2','LMC3','LMC4','LMC5','LMC6','LMC7','LMC8','LMC9','LMC10','LMC11','LMC12','LMC13',\n",
    "          'LMC14','LMC15','LMC16','LMC17']\n",
    "for i in range(len(fields)):\n",
    "    if fields[i] == 'LMC15':\n",
    "        areas.append(0.0)\n",
    "    else:\n",
    "        areas.append(dfunc.apogee_field_area(fields[i],bloopdr16))\n",
    "    \n",
    "# Convert to pc^2 from kpc^2\n",
    "areas = np.multiply(areas,10**6)"
   ]
  },
  {
   "cell_type": "code",
   "execution_count": 215,
   "metadata": {},
   "outputs": [
    {
     "name": "stdout",
     "output_type": "stream",
     "text": [
      "[-0.64664155, -0.82820654, -0.88869154, -0.6405615, -0.6704965, -0.68984157, -0.6980615, -0.75255656, -0.7126315, -0.6524066, -0.72207654, -0.7252715, -0.8573816, -0.69056153, -0.68215156, nan, -0.87668157, -0.73662156]\n"
     ]
    }
   ],
   "source": [
    "field_metallicity = []\n",
    "for i,j in enumerate(fields):\n",
    "    fd = np.where(bloopdr16['FIELD']==j)\n",
    "    field_metallicity.append(np.median(bloopdr16[fd]['FE_H']))\n",
    "    \n",
    "print(field_metallicity)"
   ]
  },
  {
   "cell_type": "code",
   "execution_count": 4,
   "metadata": {},
   "outputs": [],
   "source": [
    "#################\n",
    "### Age Model ###\n",
    "#################\n",
    "\n",
    "### Age model\n",
    "def parsec_age(w,x,y,z):\n",
    "    p=[28.90025823,-0.8303683,3.28088688,-0.08771859,-7.48008086,-0.66424502,\\\n",
    "       0.04407313,0.13976222,0.74247359]\n",
    "    return p[0]+p[1]*w+p[2]*x+p[3]*y+p[4]*z+p[5]*np.multiply(x,z)+p[6]*np.multiply(y,z)+p[7]*(x**2)+p[8]*(z**2)\n",
    "\n",
    "####################################\n",
    "### Get Uncertainties: Add Noise ###\n",
    "####################################\n",
    "\n",
    "'''in alpha w/o C and N, out alpha w/ C and N'''\n",
    "\n",
    "def noisydata(lgT,lgTERR,ks,ksERR,mh,mhERR,cfe,cfeERR,nfe,nfeERR,feh,fehERR,lgg,lggERR):\n",
    "    carbon = 0.28115244582676185 # derived in initial age calc\n",
    "    nitrogen = 0.06901474154376043 # derived in initial age calc\n",
    "    Tnoise = np.random.normal(0, 0.434*(lgTERR/lgT)) #logTeff\n",
    "    Knoise = np.random.normal(0, ksERR) #Ks\n",
    "    MHnoise = np.random.normal(0, mhERR) #[M/H]\n",
    "    \n",
    "    cm = cfe + feh - mh\n",
    "    nm = nfe + feh - mh\n",
    "    CMERR = np.sqrt((cfeERR)**2+(fehERR)**2+(mhERR)**2)\n",
    "    NMERR = np.sqrt((nfeERR)**2+(fehERR)**2+(mhERR)**2)\n",
    "    \n",
    "    expcarERR = 10**(cm)*np.log(10)*CMERR\n",
    "    expnitERR = 10**(nm)*np.log(10)*NMERR\n",
    "    \n",
    "    xcarb = carbon*10**(cm)\n",
    "    xnitr = nitrogen*10**(nm)\n",
    "    fac = (xcarb+xnitr)/(carbon+nitrogen) #factor from Salaris correction\n",
    "    facERR = np.sqrt((expcarERR)**2+(expnitERR)**2)/(carbon+nitrogen)\n",
    "    \n",
    "    facnoise = np.random.normal(0, np.absolute(0.434*(facERR/fac)))\n",
    "    \n",
    "    lggnoise = np.random.normal(0, lggERR) #logg\n",
    "    Tnew = lgT + ((-1)**np.random.randint(2))*Tnoise\n",
    "    Knew = ks + ((-1)**np.random.randint(2))*Knoise\n",
    "    MHnew = mh + ((-1)**np.random.randint(2))*MHnoise\n",
    "    facnew = fac + ((-1)**np.random.randint(2))*facnoise\n",
    "    lggnew = lgg + ((-1)**np.random.randint(2))*lggnoise\n",
    "    return Tnew, Knew, MHnew, facnew, lggnew"
   ]
  },
  {
   "cell_type": "code",
   "execution_count": 5,
   "metadata": {},
   "outputs": [],
   "source": [
    "######################\n",
    "### Calculate Ages ###\n",
    "######################\n",
    "\n",
    "abd = {'C':8.39,'N':7.78,'O':8.66,'Mg':7.53,'Ca':6.31,'S':7.14,'Si':7.51,'Fe':7.45}\n",
    "keys = list(abd.keys())\n",
    "\n",
    "sol_2_H = []\n",
    "for i in keys:\n",
    "    sol_2_H.append(abd[i]-12.0)\n",
    "    \n",
    "sol_xm  = 10**np.asarray(sol_2_H)/sum(10**np.asarray(sol_2_H))\n",
    "x_C = []\n",
    "x_N = []\n",
    "x_O = []\n",
    "x_Mg = []\n",
    "x_Ca = []\n",
    "x_S = []\n",
    "x_Si = []\n",
    "x_Fe = []\n",
    "\n",
    "for i in range(len(clndr16)):\n",
    "    x_C.append(sol_xm[0]*10**(clndr16['C_FE']+clndr16['FE_H']-clndr16['M_H']))\n",
    "    x_N.append(sol_xm[1]*10**(clndr16['N_FE']+clndr16['FE_H']-clndr16['M_H']))\n",
    "    x_O.append(sol_xm[2]*10**(clndr16['O_FE']+clndr16['FE_H']-clndr16['M_H']))\n",
    "    x_Mg.append(sol_xm[3]*10**(clndr16['Mg_FE']+clndr16['FE_H']-clndr16['M_H']))\n",
    "    x_Ca.append(sol_xm[4]*10**(clndr16['Ca_FE']+clndr16['FE_H']-clndr16['M_H']))\n",
    "    x_S.append(sol_xm[5]*10**(clndr16['S_FE']+clndr16['FE_H']-clndr16['M_H']))\n",
    "    x_Si.append(sol_xm[6]*10**(clndr16['SI_FE']+clndr16['FE_H']-clndr16['M_H']))\n",
    "    x_Fe.append(sol_xm[7]*10**(clndr16['FE_H']-clndr16['M_H']))\n",
    "    \n",
    "facts = []\n",
    "factsalp = []\n",
    "factsCNO = []\n",
    "factsCN = []\n",
    "factsCO = []\n",
    "for j in range(len(clndr16)):\n",
    "    numerCN = x_C[j]+x_N[j]\n",
    "    denomCN = sum(sol_xm[0:2])\n",
    "    \n",
    "    numerCO = x_C[j]+x_O[j]\n",
    "    denomCO = sol_xm[0]+sol_xm[2]\n",
    "factsCN.append(numerCN/denomCN)\n",
    "factsCO.append(numerCO/denomCO)\n",
    "    \n",
    "# factsCN = factsCN[0]\n",
    "# factsCO = factsCO[0]\n",
    "\n",
    "metscorr = np.log10(0.638*(np.asarray(factsCN)+0.362))\n",
    "\n",
    "_, _, stardist = dfunc.LMCdisk_cart(clndr16['RA'],clndr16['DEC'])\n",
    "corabsK = dfunc.absmag(clndr16['K'],stardist)-clndr16['AK_TARG']\n",
    "parage = parsec_age(np.log10(clndr16['TEFF']),corabsK,dfunc.sal(clndr16['M_H'],metscorr),clndr16['LOGG'])\n",
    "parage = np.squeeze(parage)"
   ]
  },
  {
   "cell_type": "code",
   "execution_count": 6,
   "metadata": {},
   "outputs": [
    {
     "data": {
      "application/vnd.jupyter.widget-view+json": {
       "model_id": "4d44b5e877bb414b9482bd9bac9832a2",
       "version_major": 2,
       "version_minor": 0
      },
      "text/plain": [
       "HBox(children=(IntProgress(value=0, description='Done?', max=2427, style=ProgressStyle(description_width='init…"
      ]
     },
     "metadata": {},
     "output_type": "display_data"
    },
    {
     "name": "stdout",
     "output_type": "stream",
     "text": [
      "\n"
     ]
    }
   ],
   "source": [
    "######################################\n",
    "### Get Uncertainties: Calc Uncert ###\n",
    "######################################\n",
    "\n",
    "devs = []\n",
    "\n",
    "for i in tqdm_notebook(range(len(clndr16)),desc='Done?'):\n",
    "    lgT = np.log10(clndr16['TEFF'][i])\n",
    "    lgTERR = 0.434*(np.log(clndr16['TEFF_ERR'][i])/np.log10(clndr16['TEFF'][i]))\n",
    "    ks = corabsK[i]\n",
    "    ksERR = clndr16['K_ERR'][i]\n",
    "    mh = clndr16['M_H'][i]\n",
    "    mhERR = clndr16['M_H_ERR'][i]\n",
    "    cfe = clndr16['C_FE'][i]\n",
    "    cfeERR = clndr16['C_FE_ERR'][i]\n",
    "    nfe = clndr16['N_FE'][i]\n",
    "    nfeERR = clndr16['N_FE_ERR'][i]\n",
    "    feh = clndr16['FE_H'][i]\n",
    "    fehERR = clndr16['FE_H_ERR'][i]\n",
    "    lgg = clndr16['LOGG'][i]\n",
    "    lggERR = clndr16['LOGG_ERR'][i]\n",
    "    \n",
    "    ages = []\n",
    "    for j in range(1000):\n",
    "        nlgT,nks,nmh,nfac,nlgg = noisydata(lgT,lgTERR,ks,ksERR,mh,mhERR,cfe,cfeERR,nfe,nfeERR,feh,\\\n",
    "                                          fehERR,lgg,lggERR)\n",
    "        ages.append(parsec_age(nlgT,nks,dfunc.sal(nmh,nfac),nlgg))\n",
    "    \n",
    "    devs.append(dfunc.mad(ages))"
   ]
  },
  {
   "cell_type": "code",
   "execution_count": 159,
   "metadata": {},
   "outputs": [],
   "source": [
    "# ### blue loop cut\n",
    "# bloop = np.where((clndr16['TEFF']>=4100)&(clndr16['H']<=13.0)&((clndr16['J']-clndr16['K'])<=0.95))\n",
    "\n",
    "# bloop_cut = []\n",
    "# for i in range(len(clndr16)):\n",
    "#     if i not in np.squeeze(bloop).tolist():\n",
    "#         bloop_cut.append(i)\n",
    "        \n",
    "# bloopdr16 = clndr16[bloop_cut]\n",
    "# bloopage = parage[bloop_cut]\n",
    "# fbins = dfunc.brtfntlmc_bins(bloopdr16)"
   ]
  },
  {
   "cell_type": "code",
   "execution_count": 174,
   "metadata": {},
   "outputs": [
    {
     "data": {
      "text/plain": [
       "13208053784.589062"
      ]
     },
     "execution_count": 174,
     "metadata": {},
     "output_type": "execute_result"
    }
   ],
   "source": [
    "ageU"
   ]
  },
  {
   "cell_type": "code",
   "execution_count": 181,
   "metadata": {},
   "outputs": [
    {
     "name": "stdout",
     "output_type": "stream",
     "text": [
      "4589811873.620639\n"
     ]
    },
    {
     "data": {
      "image/png": "[encoded data removed]",
      "text/plain": [
       "<Figure size 432x288 with 1 Axes>"
      ]
     },
     "metadata": {
      "needs_background": "light"
     },
     "output_type": "display_data"
    }
   ],
   "source": [
    "phys = np.where(10**bloopage<=ageU)\n",
    "\n",
    "plt.hist(10**bloopage[phys]/10**9)\n",
    "print(np.median(10**bloopage[phys]))"
   ]
  },
  {
   "cell_type": "markdown",
   "metadata": {},
   "source": [
    "## Test fields as single populations"
   ]
  },
  {
   "cell_type": "code",
   "execution_count": 242,
   "metadata": {},
   "outputs": [],
   "source": [
    "single_age = []\n",
    "single_z = []\n",
    "for i in range(len(fields)):\n",
    "    try:\n",
    "        a, b = dfunc.findclosestparsec(field_age[i],field_metallcity[i],parsec)\n",
    "        single_age.append(a)\n",
    "        single_z.append(b)\n",
    "    except:\n",
    "        single_age.append(0.0)\n",
    "        single_z.append(0.0)\n",
    "        \n",
    "single_masses = []\n",
    "single_corabsH = (dfunc.absmag(clndr16['H'],np.asarray(stardist))-clndr16['AK_TARG'])[bloop_cut]\n",
    "for j in np.delete(range(len(fields)),-3):\n",
    "    try:\n",
    "        fd = np.where(bloopdr16['FIELD']==fields[j])\n",
    "        mass = dfunc.fieldmass(single_age[j],single_z[j],\n",
    "                               np.max(single_corabsH[fd]),\n",
    "                               np.min(single_corabsH[fd]),\n",
    "                               bloopdr16[fd]['SELECTFUNC'][0],\n",
    "                               len(np.squeeze(fd)),parsec)\n",
    "        single_masses.append(mass)\n",
    "    except:\n",
    "        single_masses.append(0.0)\n",
    "\n",
    "# single_surfden = []\n",
    "# for i in range(len(fields)):\n",
    "# #     if areas[i] == 0.0:\n",
    "# #         single_surfden.append(0.0)\n",
    "# #     else:\n",
    "# single_surfden.append(single_masses[i]/areas[i])"
   ]
  },
  {
   "cell_type": "code",
   "execution_count": 245,
   "metadata": {},
   "outputs": [
    {
     "data": {
      "text/plain": [
       "17"
      ]
     },
     "execution_count": 245,
     "metadata": {},
     "output_type": "execute_result"
    }
   ],
   "source": [
    "len(np.delete(range(len(fields)),-3))"
   ]
  },
  {
   "cell_type": "code",
   "execution_count": 244,
   "metadata": {},
   "outputs": [
    {
     "data": {
      "text/plain": [
       "17"
      ]
     },
     "execution_count": 244,
     "metadata": {},
     "output_type": "execute_result"
    }
   ],
   "source": [
    "len(single_masses)"
   ]
  },
  {
   "cell_type": "code",
   "execution_count": 217,
   "metadata": {
    "scrolled": false
   },
   "outputs": [
    {
     "data": {
      "application/vnd.jupyter.widget-view+json": {
       "model_id": "2a182fb44649459495b3b8473de38d1e",
       "version_major": 2,
       "version_minor": 0
      },
      "text/plain": [
       "HBox(children=(IntProgress(value=1, bar_style='info', max=1), HTML(value='')))"
      ]
     },
     "metadata": {},
     "output_type": "display_data"
    },
    {
     "name": "stdout",
     "output_type": "stream",
     "text": [
      "\n"
     ]
    },
    {
     "data": {
      "application/vnd.jupyter.widget-view+json": {
       "model_id": "fbfd3c6369e94c1883265407491486ef",
       "version_major": 2,
       "version_minor": 0
      },
      "text/plain": [
       "HBox(children=(IntProgress(value=1, bar_style='info', max=1), HTML(value='')))"
      ]
     },
     "metadata": {},
     "output_type": "display_data"
    },
    {
     "name": "stdout",
     "output_type": "stream",
     "text": [
      "\n"
     ]
    }
   ],
   "source": [
    "##############################\n",
    "### Calculate Field Masses ###\n",
    "##############################\n",
    "\n",
    "### Find all closest isochrones\n",
    "\n",
    "par_iso_ages = []\n",
    "par_iso_z = []\n",
    "for i,j in tqdm_notebook(enumerate(['30Dor_fnt','30Dor_brt','LMC1_fnt','LMC1_brt','LMC2_fnt','LMC2_brt','LMC3_fnt',\n",
    "                                  'LMC3_brt','LMC4_fnt','LMC4_brt','LMC5_fnt','LMC5_brt','LMC6_fnt','LMC6_brt',\n",
    "                                  'LMC7_fnt','LMC7_brt','LMC8_fnt','LMC8_brt','LMC9_fnt','LMC9_brt','LMC10_fnt',\n",
    "                                  'LMC10_brt','LMC11_fnt','LMC11_brt','LMC12_fnt','LMC12_brt','LMC13_fnt',\n",
    "                                  'LMC13_brt','LMC14_fnt','LMC14_brt','LMC15_fnt','LMC15_brt','LMC16_fnt',\n",
    "                                  'LMC16_brt','LMC17_fnt','LMC17_brt'])):\n",
    "    if len(fbins[j][0])==0:\n",
    "        par_iso_ages.append(0.0)\n",
    "        par_iso_z.append(0.0)\n",
    "        \n",
    "    else:\n",
    "        iso_age, iso_z = dfunc.findclosestparsec(4.589811873620639,-0.5,parsec) #-0.5\n",
    "        #iso_age, iso_z = dfunc.findclosestparsec(,np.median(bloopdr16['FE_H'][fbins[i]]),parsec)\n",
    "        par_iso_ages.append(iso_age)\n",
    "        par_iso_z.append(iso_z)\n",
    "\n",
    "### Calculate mass\n",
    "masses = []\n",
    "corabsH = (dfunc.absmag(clndr16['H'],np.asarray(stardist))-clndr16['AK_TARG'])[bloop_cut]\n",
    "for i,j in tqdm_notebook(enumerate(['30Dor_fnt','30Dor_brt','LMC1_fnt','LMC1_brt','LMC2_fnt','LMC2_brt','LMC3_fnt',\n",
    "                                  'LMC3_brt','LMC4_fnt','LMC4_brt','LMC5_fnt','LMC5_brt','LMC6_fnt','LMC6_brt',\n",
    "                                  'LMC7_fnt','LMC7_brt','LMC8_fnt','LMC8_brt','LMC9_fnt','LMC9_brt','LMC10_fnt',\n",
    "                                  'LMC10_brt','LMC11_fnt','LMC11_brt','LMC12_fnt','LMC12_brt','LMC13_fnt',\n",
    "                                  'LMC13_brt','LMC14_fnt','LMC14_brt','LMC15_fnt','LMC15_brt','LMC16_fnt',\n",
    "                                  'LMC16_brt','LMC17_fnt','LMC17_brt'])):\n",
    "    \n",
    "    if len(fbins[j][0])==0:\n",
    "        masses.append(0.0)\n",
    "        \n",
    "    else:\n",
    "        mass = dfunc.fieldmass(par_iso_ages[i],par_iso_z[i],np.max(corabsH[fbins[j]]),np.min(corabsH[fbins[j]]),\n",
    "                               bloopdr16[fbins[j]]['SELECTFUNC'][0],len(np.squeeze(fbins[j])),parsec)\n",
    "        masses.append(mass)\n",
    "        \n",
    "tot_masses = []\n",
    "fnt_mass = []\n",
    "brt_mass = []\n",
    "for i in np.arange(36):\n",
    "    if i in np.arange(36)[0::2]:\n",
    "        fnt_mass.append(masses[i])\n",
    "    if i in np.arange(36)[1::2]:\n",
    "        brt_mass.append(masses[i])\n",
    "        \n",
    "tot_mass = np.asarray(fnt_mass)+np.asarray(brt_mass)"
   ]
  },
  {
   "cell_type": "code",
   "execution_count": 214,
   "metadata": {},
   "outputs": [
    {
     "name": "stdout",
     "output_type": "stream",
     "text": [
      "[9.846915531822049, 9.54345408438121, 9.589956024015935, 9.593754134700077, 9.981659638387613, 10.003442591769788, 10.063775024459858, 10.02145993743524, 10.054538385001553, 10.130217558264656, 9.806423951196589, 10.13411953660922, 9.653367215238113, 10.04276729482114, 10.041007958760044, nan, 9.6915267326541, 9.955259742888925]\n"
     ]
    }
   ],
   "source": [
    "field_age = []\n",
    "for i,j in enumerate(fields):\n",
    "    fd = np.where(bloopdr16['FIELD']==j)\n",
    "    field_age.append(np.median(bloopage[fd]))\n",
    "    \n",
    "print(field_age)"
   ]
  },
  {
   "cell_type": "code",
   "execution_count": 56,
   "metadata": {},
   "outputs": [
    {
     "data": {
      "text/plain": [
       "[27556194.177792493,\n",
       " 824960.9511919193,\n",
       " 700753.0146982819,\n",
       " 1781290.208493925,\n",
       " 48799694.58379269,\n",
       " 52166254.75006086,\n",
       " 35229940.21563411,\n",
       " 3410025.844179721,\n",
       " 44700435.628762744,\n",
       " 220662678.82514387,\n",
       " 3043425.287134262,\n",
       " 6900672.156737876,\n",
       " 960861.2902941997,\n",
       " 43871888.00228704,\n",
       " 63267859.51114054,\n",
       " 0.0,\n",
       " 708353.7478056696,\n",
       " 3264192.6164296153]"
      ]
     },
     "execution_count": 56,
     "metadata": {},
     "output_type": "execute_result"
    }
   ],
   "source": [
    "brt_mass"
   ]
  },
  {
   "cell_type": "code",
   "execution_count": 192,
   "metadata": {},
   "outputs": [],
   "source": [
    "###################################\n",
    "### Surface Density Calculation ###\n",
    "###################################\n",
    "\n",
    "isotropic_surfden = []\n",
    "for i in range(len(tot_mass)):\n",
    "    if areas[i] == 0.0:\n",
    "        isotropic_surfden.append(0.0)\n",
    "    else:\n",
    "        isotropic_surfden.append(tot_mass[i]/areas[i])"
   ]
  },
  {
   "cell_type": "code",
   "execution_count": 193,
   "metadata": {},
   "outputs": [
    {
     "name": "stdout",
     "output_type": "stream",
     "text": [
      "                    Robust linear Model Regression Results                    \n",
      "==============================================================================\n",
      "Dep. Variable:                      y   No. Observations:                   17\n",
      "Model:                            RLM   Df Residuals:                       15\n",
      "Method:                          IRLS   Df Model:                            1\n",
      "Norm:                          HuberT                                         \n",
      "Scale Est.:                       mad                                         \n",
      "Cov Type:                          H1                                         \n",
      "Date:                Sun, 08 Mar 2020                                         \n",
      "Time:                        20:28:14                                         \n",
      "No. Iterations:                    21                                         \n",
      "==============================================================================\n",
      "                 coef    std err          z      P>|z|      [0.025      0.975]\n",
      "------------------------------------------------------------------------------\n",
      "const          3.9815      0.237     16.784      0.000       3.517       4.446\n",
      "x1            -0.1907      0.059     -3.236      0.001      -0.306      -0.075\n",
      "==============================================================================\n",
      "\n",
      "If the model instance has been used for another fit with different fit\n",
      "parameters, then the fit options might not be the correct ones anymore .\n",
      "[ 3.98153454 -0.19066589]\n"
     ]
    },
    {
     "data": {
      "image/png": "[encoded data removed]",
      "text/plain": [
       "<Figure size 864x720 with 1 Axes>"
      ]
     },
     "metadata": {
      "needs_background": "light"
     },
     "output_type": "display_data"
    },
    {
     "name": "stdout",
     "output_type": "stream",
     "text": [
      "mad(Residual): 0.2255489840813527\n"
     ]
    }
   ],
   "source": [
    "###################################\n",
    "### Fit Surface Density Profile ###\n",
    "###################################\n",
    "\n",
    "'''\n",
    "model is sigma = A*exp(B*r)\n",
    "A central density \n",
    "B radial scale height \n",
    "r radius\n",
    "\n",
    "ln(sigma) = lnA + B*r\n",
    "'''\n",
    "\n",
    "import statsmodels.api as sm \n",
    "\n",
    "field_list = [np.where(bloopdr16['FIELD']=='30Dor'),np.where(bloopdr16['FIELD']=='LMC1'),\n",
    "              np.where(bloopdr16['FIELD']=='LMC2'),np.where(bloopdr16['FIELD']=='LMC3'),\n",
    "              np.where(bloopdr16['FIELD']=='LMC4'),np.where(bloopdr16['FIELD']=='LMC5'),\n",
    "              np.where(bloopdr16['FIELD']=='LMC6'),np.where(bloopdr16['FIELD']=='LMC7'),\n",
    "              np.where(bloopdr16['FIELD']=='LMC8'),np.where(bloopdr16['FIELD']=='LMC9'),\n",
    "              np.where(bloopdr16['FIELD']=='LMC10'),np.where(bloopdr16['FIELD']=='LMC11'),\n",
    "              np.where(bloopdr16['FIELD']=='LMC12'),np.where(bloopdr16['FIELD']=='LMC13'),\n",
    "              np.where(bloopdr16['FIELD']=='LMC14'),np.where(bloopdr16['FIELD']=='LMC15'),\n",
    "              np.where(bloopdr16['FIELD']=='LMC16'),np.where(bloopdr16['FIELD']=='LMC17')]\n",
    "\n",
    "radii = []\n",
    "fields\n",
    "for i in range(len(fields)):\n",
    "    if isotropic_surfden[i] == 0.0:\n",
    "        radii.append(0.0)\n",
    "    else:\n",
    "        radii.append(np.sqrt(np.median(dfunc.LMCdisk_cart(bloopdr16['RA'][field_list[i]],\n",
    "                                                          bloopdr16['DEC'][field_list[i]])[0])**2 + \n",
    "                             np.median(dfunc.LMCdisk_cart(bloopdr16['RA'][field_list[i]],\n",
    "                                                    bloopdr16['DEC'][field_list[i]])[1])**2))\n",
    "    \n",
    "radii_rm15 = np.delete(radii,-3)\n",
    "isotropic_surfden_rm15 = np.delete(isotropic_surfden,-3)\n",
    "\n",
    "model = np.array([radii_rm15]).T\n",
    "model = sm.add_constant(model)\n",
    "model_model = sm.RLM(np.log(isotropic_surfden_rm15),model).fit()\n",
    "model_predictions = model_model.predict(model)\n",
    "model_residual = model_predictions - np.log(isotropic_surfden_rm15)\n",
    "model_summary = model_model.summary()\n",
    "print(model_summary)\n",
    "print(np.asarray(model_model.params))\n",
    "\n",
    "plt.figure(figsize=[12,10])\n",
    "plt.scatter(radii_rm15,model_residual,marker='+',label='Residuals',cmap='nipy_spectral',s=100)\n",
    "plt.axhline(dfunc.mad(model_residual),linestyle='--',c='r',label='MAD')\n",
    "plt.axhline(-dfunc.mad(model_residual),linestyle='--',c='r')\n",
    "plt.title(r'Surface Density Residuals')\n",
    "plt.xlabel(r'Radius (kpc)')\n",
    "plt.ylabel(r'Residuals $Log(M_\\odot/pc^2)$')\n",
    "# plt.colorbar()\n",
    "# plt.savefig('residexpmodel.pdf',bbox_inches='tight')\n",
    "plt.show()\n",
    "print('mad(Residual):',dfunc.mad(model_residual))"
   ]
  },
  {
   "cell_type": "code",
   "execution_count": 246,
   "metadata": {},
   "outputs": [
    {
     "data": {
      "text/plain": [
       "4.004805766920304"
      ]
     },
     "execution_count": 246,
     "metadata": {},
     "output_type": "execute_result"
    }
   ],
   "source": [
    "np.reciprocal(0.1907+0.059)"
   ]
  },
  {
   "cell_type": "code",
   "execution_count": 195,
   "metadata": {},
   "outputs": [
    {
     "data": {
      "image/png": "[encoded data removed]",
      "text/plain": [
       "<Figure size 864x720 with 1 Axes>"
      ]
     },
     "metadata": {
      "needs_background": "light"
     },
     "output_type": "display_data"
    }
   ],
   "source": [
    "#################################\n",
    "### Isotropic Density Profile ###\n",
    "#################################\n",
    "\n",
    "def isotropicfunc(r):\n",
    "    p = [3.98153454, -0.19066589] \n",
    "    return p[0]+np.multiply(p[1],r)\n",
    "\n",
    "plt.figure(figsize=[12,10])\n",
    "plt.scatter(radii_rm15,isotropic_surfden_rm15,marker='+',label='Data',cmap='nipy_spectral',s=100)\n",
    "plt.plot(radii_rm15,np.exp(isotropicfunc(radii_rm15)),c='r',label='Exp Disk Model')\n",
    "plt.yscale('log')\n",
    "plt.xlabel(r'Radius (kpc)')\n",
    "plt.ylabel(r'Log($\\Sigma(r)$)   $M_\\odot/pc^2$')\n",
    "plt.title('Isotropic Surface Density Profile for the LMC')\n",
    "plt.legend()\n",
    "# plt.colorbar()\n",
    "plt.savefig('isotropicdensity.pdf',bbox_inches='tight')\n",
    "plt.show()"
   ]
  },
  {
   "cell_type": "markdown",
   "metadata": {},
   "source": [
    "$\\Huge{Realistic}$"
   ]
  },
  {
   "cell_type": "code",
   "execution_count": 61,
   "metadata": {},
   "outputs": [],
   "source": [
    "##############################\n",
    "### Calculate Field Masses ###\n",
    "##############################\n",
    "\n",
    "# ### Find all closest isochrones\n",
    "\n",
    "# #bloopage \n",
    "\n",
    "# par_iso_ages = []\n",
    "# par_iso_z = []\n",
    "# for i,j in tqdm_notebook(enumerate(['30Dor_fnt','30Dor_brt','LMC1_fnt','LMC1_brt','LMC2_fnt','LMC2_brt','LMC3_fnt',\n",
    "#                                   'LMC3_brt','LMC4_fnt','LMC4_brt','LMC5_fnt','LMC5_brt','LMC6_fnt','LMC6_brt',\n",
    "#                                   'LMC7_fnt','LMC7_brt','LMC8_fnt','LMC8_brt','LMC9_fnt','LMC9_brt','LMC10_fnt',\n",
    "#                                   'LMC10_brt','LMC11_fnt','LMC11_brt','LMC12_fnt','LMC12_brt','LMC13_fnt',\n",
    "#                                   'LMC13_brt','LMC14_fnt','LMC14_brt','LMC15_fnt','LMC15_brt','LMC16_fnt',\n",
    "#                                   'LMC16_brt','LMC17_fnt','LMC17_brt'])):\n",
    "#     if len(fbins[j][0])==0:\n",
    "#         par_iso_ages.append(0.0)\n",
    "#         par_iso_z.append(0.0)\n",
    "        \n",
    "#     else:\n",
    "#         iso_age, iso_z = dfunc.findclosestparsec(np.median(bloopage[fbins[j]]),\n",
    "#                                                  np.median(bloopdr16['FE_H'][fbins[j]]),parsec)\n",
    "#         par_iso_ages.append(iso_age)\n",
    "#         par_iso_z.append(iso_z)\n",
    "\n",
    "# ### Calculate mass\n",
    "# masses = []\n",
    "# corabsH = (dfunc.absmag(clndr16['H'],np.asarray(stardist))-clndr16['AK_TARG'])[bloop_cut]\n",
    "# for i,j in tqdm_notebook(enumerate(['30Dor_fnt','30Dor_brt','LMC1_fnt','LMC1_brt','LMC2_fnt','LMC2_brt','LMC3_fnt',\n",
    "#                                   'LMC3_brt','LMC4_fnt','LMC4_brt','LMC5_fnt','LMC5_brt','LMC6_fnt','LMC6_brt',\n",
    "#                                   'LMC7_fnt','LMC7_brt','LMC8_fnt','LMC8_brt','LMC9_fnt','LMC9_brt','LMC10_fnt',\n",
    "#                                   'LMC10_brt','LMC11_fnt','LMC11_brt','LMC12_fnt','LMC12_brt','LMC13_fnt',\n",
    "#                                   'LMC13_brt','LMC14_fnt','LMC14_brt','LMC15_fnt','LMC15_brt','LMC16_fnt',\n",
    "#                                   'LMC16_brt','LMC17_fnt','LMC17_brt'])):\n",
    "    \n",
    "#     if len(fbins[j][0])==0:\n",
    "#         masses.append(0.0)\n",
    "        \n",
    "#     else:\n",
    "#         mass = dfunc.fieldmass(par_iso_ages[i],par_iso_z[i],np.max(corabsH[fbins[j]]),np.min(corabsH[fbins[j]]),\n",
    "#                                bloopdr16[fbins[j]]['SELECTFUNC'][0],len(np.squeeze(fbins[j])),parsec)\n",
    "#         masses.append(mass)\n",
    "        \n",
    "# tot_masses = []\n",
    "# fnt_mass = []\n",
    "# brt_mass = []\n",
    "# for i in np.arange(36):\n",
    "#     if i in np.arange(36)[0::2]:\n",
    "#         fnt_mass.append(masses[i])\n",
    "#     if i in np.arange(36)[1::2]:\n",
    "#         brt_mass.append(masses[i])\n",
    "        \n",
    "# tot_mass = np.asarray(fnt_mass)+np.asarray(brt_mass)"
   ]
  },
  {
   "cell_type": "code",
   "execution_count": 62,
   "metadata": {},
   "outputs": [
    {
     "data": {
      "text/plain": [
       "[0.0,\n",
       " 0.0046045,\n",
       " 0.0046045,\n",
       " 0.0036781,\n",
       " 0.0046045,\n",
       " 0.0057617,\n",
       " 0.0046045,\n",
       " 0.0046045,\n",
       " 0.0,\n",
       " 0.0046045,\n",
       " 0.0,\n",
       " 0.0046045,\n",
       " 0.0,\n",
       " 0.0046045,\n",
       " 0.0046045,\n",
       " 0.0046045,\n",
       " 0.0,\n",
       " 0.0046045,\n",
       " 0.0,\n",
       " 0.0057617,\n",
       " 0.0046045,\n",
       " 0.0046045,\n",
       " 0.0046045,\n",
       " 0.0036781,\n",
       " 0.0036781,\n",
       " 0.0046045,\n",
       " 0.0,\n",
       " 0.0046045,\n",
       " 0.0,\n",
       " 0.0046045,\n",
       " 0.0,\n",
       " 0.0,\n",
       " 0.0046045,\n",
       " 0.0046045,\n",
       " 0.0046045,\n",
       " 0.0036781]"
      ]
     },
     "execution_count": 62,
     "metadata": {},
     "output_type": "execute_result"
    }
   ],
   "source": [
    "real_iso_z"
   ]
  },
  {
   "cell_type": "code",
   "execution_count": 109,
   "metadata": {},
   "outputs": [
    {
     "data": {
      "text/plain": [
       "array([0.10432317, 0.12262081, 0.0975859 , ..., 0.13051449, 0.15858341,\n",
       "       0.05001463])"
      ]
     },
     "execution_count": 109,
     "metadata": {},
     "output_type": "execute_result"
    }
   ],
   "source": [
    "physical_age = np.where(bloopage<10.13)\n",
    "bloopdr16[physical_age]\n",
    "phys_bloopage = bloopage[physical_age]\n",
    "\n",
    "np.asarray(devs)[physical_age][f2bins[j]]"
   ]
  },
  {
   "cell_type": "code",
   "execution_count": 142,
   "metadata": {},
   "outputs": [
    {
     "data": {
      "text/plain": [
       "(array([4.60e+01, 1.54e+02, 1.91e+02, 5.27e+02, 1.03e+03, 4.49e+02,\n",
       "        2.40e+01, 5.00e+00, 0.00e+00, 1.00e+00]),\n",
       " array([ 7.16557952,  7.78984496,  8.4141104 ,  9.03837584,  9.66264128,\n",
       "        10.28690672, 10.91117216, 11.5354376 , 12.15970304, 12.78396848,\n",
       "        13.40823392]),\n",
       " <a list of 10 Patch objects>)"
      ]
     },
     "execution_count": 142,
     "metadata": {},
     "output_type": "execute_result"
    },
    {
     "data": {
      "image/png": "[encoded data removed]",
      "text/plain": [
       "<Figure size 432x288 with 1 Axes>"
      ]
     },
     "metadata": {
      "needs_background": "light"
     },
     "output_type": "display_data"
    }
   ],
   "source": [
    "plt.hist(parage)"
   ]
  },
  {
   "cell_type": "code",
   "execution_count": 209,
   "metadata": {},
   "outputs": [
    {
     "data": {
      "application/vnd.jupyter.widget-view+json": {
       "model_id": "d4ed511188854efc904ea38723eb1be6",
       "version_major": 2,
       "version_minor": 0
      },
      "text/plain": [
       "HBox(children=(IntProgress(value=1, bar_style='info', max=1), HTML(value='')))"
      ]
     },
     "metadata": {},
     "output_type": "display_data"
    },
    {
     "name": "stdout",
     "output_type": "stream",
     "text": [
      "\n"
     ]
    },
    {
     "data": {
      "application/vnd.jupyter.widget-view+json": {
       "model_id": "c2c9cfacfe9e46aeabc8050250772173",
       "version_major": 2,
       "version_minor": 0
      },
      "text/plain": [
       "HBox(children=(IntProgress(value=1, bar_style='info', max=1), HTML(value='')))"
      ]
     },
     "metadata": {},
     "output_type": "display_data"
    },
    {
     "name": "stdout",
     "output_type": "stream",
     "text": [
      "\n"
     ]
    }
   ],
   "source": [
    "physical_age = np.where((bloopage<10.13)&(bloopage>7.5))\n",
    "bloopdr16[physical_age]\n",
    "phys_bloopage = bloopage[physical_age]\n",
    "\n",
    "f2bins = dfunc.brtfntlmc_bins(bloopdr16[physical_age])\n",
    "\n",
    "real_iso_age = []\n",
    "real_iso_z = []\n",
    "real_iso_maxH = []\n",
    "real_mets = []\n",
    "for i,j in tqdm_notebook(enumerate(['30Dor_fnt','30Dor_brt','LMC1_fnt','LMC1_brt','LMC2_fnt','LMC2_brt','LMC3_fnt',\n",
    "                                  'LMC3_brt','LMC4_fnt','LMC4_brt','LMC5_fnt','LMC5_brt','LMC6_fnt','LMC6_brt',\n",
    "                                  'LMC7_fnt','LMC7_brt','LMC8_fnt','LMC8_brt','LMC9_fnt','LMC9_brt','LMC10_fnt',\n",
    "                                  'LMC10_brt','LMC11_fnt','LMC11_brt','LMC12_fnt','LMC12_brt','LMC13_fnt',\n",
    "                                  'LMC13_brt','LMC14_fnt','LMC14_brt','LMC15_fnt','LMC15_brt','LMC16_fnt',\n",
    "                                  'LMC16_brt','LMC17_fnt','LMC17_brt'])):\n",
    "    \n",
    "        if len(f2bins[j][0])==0:\n",
    "            real_iso_age.append(0.0)\n",
    "            real_iso_z.append(0.0)\n",
    "            real_iso_maxH.append(0.0)\n",
    "            real_mets.append(-9999.0)\n",
    "        \n",
    "        else:\n",
    "            iso_age, iso_z = dfunc.findclosestparsec(np.median(phys_bloopage[f2bins[j]]),\n",
    "                                                     np.median(bloopdr16[physical_age]['FE_H'][f2bins[j]]),parsec)\n",
    "\n",
    "            real_iso_age.append(iso_age)\n",
    "            real_iso_z.append(iso_z)\n",
    "            real_iso_maxH.append(np.max(corabsH[f2bins[j]]))\n",
    "            real_mets.append(np.median(bloopdr16[physical_age]['FE_H'][f2bins[j]]))\n",
    "            \n",
    "real_masses = []\n",
    "corabsH = (dfunc.absmag(clndr16['H'],np.asarray(stardist))-clndr16['AK_TARG'])[bloop_cut]\n",
    "for i,j in tqdm_notebook(enumerate(['30Dor_fnt','30Dor_brt','LMC1_fnt','LMC1_brt','LMC2_fnt','LMC2_brt','LMC3_fnt',\n",
    "                                  'LMC3_brt','LMC4_fnt','LMC4_brt','LMC5_fnt','LMC5_brt','LMC6_fnt','LMC6_brt',\n",
    "                                  'LMC7_fnt','LMC7_brt','LMC8_fnt','LMC8_brt','LMC9_fnt','LMC9_brt','LMC10_fnt',\n",
    "                                  'LMC10_brt','LMC11_fnt','LMC11_brt','LMC12_fnt','LMC12_brt','LMC13_fnt',\n",
    "                                  'LMC13_brt','LMC14_fnt','LMC14_brt','LMC15_fnt','LMC15_brt','LMC16_fnt',\n",
    "                                  'LMC16_brt','LMC17_fnt','LMC17_brt'])):\n",
    "    \n",
    "    if len(f2bins[j][0])==0:\n",
    "        real_masses.append(0.0)\n",
    "        \n",
    "    else:\n",
    "        try:\n",
    "            mass = dfunc.fieldmass(real_iso_age[i],real_iso_z[i],np.max(corabsH[f2bins[j]]),np.min(corabsH[f2bins[j]]),\n",
    "                                   bloopdr16[f2bins[j]]['SELECTFUNC'][0],len(np.squeeze(f2bins[j])),parsec)\n",
    "            real_masses.append(mass)\n",
    "        \n",
    "        except:\n",
    "            real_masses.append(0.0)\n",
    "        \n",
    "        \n",
    "tot_real_masses = []\n",
    "fnt_mass = []\n",
    "brt_mass = []\n",
    "for i in np.arange(36):\n",
    "    if i in np.arange(36)[0::2]:\n",
    "        fnt_mass.append(real_masses[i])\n",
    "    if i in np.arange(36)[1::2]:\n",
    "        brt_mass.append(real_masses[i])\n",
    "        \n",
    "tot_real_mass = np.asarray(fnt_mass)+np.asarray(brt_mass)"
   ]
  },
  {
   "cell_type": "code",
   "execution_count": 210,
   "metadata": {},
   "outputs": [
    {
     "data": {
      "text/plain": [
       "[-9999.0,\n",
       " -0.63010156,\n",
       " -0.6375816,\n",
       " -0.69329154,\n",
       " -0.62408155,\n",
       " -0.53826153,\n",
       " -0.6506965,\n",
       " -0.6706215,\n",
       " -9999.0,\n",
       " -0.63385653,\n",
       " -9999.0,\n",
       " -0.63610154,\n",
       " -9999.0,\n",
       " -0.63926154,\n",
       " -0.65541655,\n",
       " -0.6757116,\n",
       " -9999.0,\n",
       " -0.65682656,\n",
       " -9999.0,\n",
       " -0.5598365,\n",
       " -0.62570155,\n",
       " -0.6771616,\n",
       " -0.65269655,\n",
       " -0.7240366,\n",
       " -0.7177216,\n",
       " -0.6242366,\n",
       " -9999.0,\n",
       " -0.6474916,\n",
       " -9999.0,\n",
       " -0.62468153,\n",
       " -9999.0,\n",
       " -9999.0,\n",
       " -0.6499865,\n",
       " -0.63767153,\n",
       " -0.6081215,\n",
       " -0.68702155]"
      ]
     },
     "execution_count": 210,
     "metadata": {},
     "output_type": "execute_result"
    }
   ],
   "source": [
    "real_mets"
   ]
  },
  {
   "cell_type": "code",
   "execution_count": 211,
   "metadata": {},
   "outputs": [
    {
     "data": {
      "text/plain": [
       "[-0.64664155,\n",
       " -0.82820654,\n",
       " -0.88869154,\n",
       " -0.6405615,\n",
       " -0.6704965,\n",
       " -0.68984157,\n",
       " -0.6980615,\n",
       " -0.75255656,\n",
       " -0.7126315,\n",
       " -0.6524066,\n",
       " -0.72207654,\n",
       " -0.7252715,\n",
       " -0.8573816,\n",
       " -0.69056153,\n",
       " -0.68215156,\n",
       " nan,\n",
       " -0.87668157,\n",
       " -0.73662156]"
      ]
     },
     "execution_count": 211,
     "metadata": {},
     "output_type": "execute_result"
    }
   ],
   "source": [
    "field_metallicity"
   ]
  },
  {
   "cell_type": "code",
   "execution_count": 144,
   "metadata": {},
   "outputs": [
    {
     "data": {
      "text/plain": [
       "[0.0,\n",
       " 71775841.2378133,\n",
       " 25841438.266303852,\n",
       " 49362079.097371556,\n",
       " 0.0,\n",
       " 0.0,\n",
       " 0.0,\n",
       " 27164053.70276328,\n",
       " 0.0,\n",
       " 0.0,\n",
       " 290676666.0499596,\n",
       " 9115674.575715758,\n",
       " 20341779.59827058,\n",
       " 0.0,\n",
       " 0.0,\n",
       " 0.0,\n",
       " 24063483.768783238,\n",
       " 241094594.54873148]"
      ]
     },
     "execution_count": 144,
     "metadata": {},
     "output_type": "execute_result"
    }
   ],
   "source": [
    "fnt_mass"
   ]
  },
  {
   "cell_type": "code",
   "execution_count": 145,
   "metadata": {},
   "outputs": [
    {
     "data": {
      "text/plain": [
       "[58374884.86763233,\n",
       " 1678347.8116626937,\n",
       " 3924640.1348857754,\n",
       " 6153004.41755003,\n",
       " 33126281.962965246,\n",
       " 77870016.43725027,\n",
       " 31296176.291300997,\n",
       " 9170470.949588759,\n",
       " 45032072.15900563,\n",
       " 149799007.33776683,\n",
       " 6663503.654108131,\n",
       " 16974954.392911818,\n",
       " 3268375.7197058564,\n",
       " 220454028.1133366,\n",
       " 31929461.976605747,\n",
       " 0.0,\n",
       " 4636593.750322125,\n",
       " 8457161.020561252]"
      ]
     },
     "execution_count": 145,
     "metadata": {},
     "output_type": "execute_result"
    }
   ],
   "source": [
    "brt_mass"
   ]
  },
  {
   "cell_type": "code",
   "execution_count": 197,
   "metadata": {},
   "outputs": [],
   "source": [
    "###################################\n",
    "### Surface Density Calculation ###\n",
    "###################################\n",
    "\n",
    "real_surfden = []\n",
    "for i in range(len(tot_mass)):\n",
    "    if areas[i] == 0.0:\n",
    "        real_surfden.append(0.0)\n",
    "    else:\n",
    "        real_surfden.append(tot_real_mass[i]/areas[i])"
   ]
  },
  {
   "cell_type": "code",
   "execution_count": 147,
   "metadata": {},
   "outputs": [
    {
     "data": {
      "text/plain": [
       "[73.45644144840735,\n",
       " 42.92664269935811,\n",
       " 17.729752233175684,\n",
       " 44.84690643216047,\n",
       " 28.685254181305783,\n",
       " 65.18412240784366,\n",
       " 28.596298092623755,\n",
       " 34.17914167360044,\n",
       " 39.44872045228885,\n",
       " 139.7268280596762,\n",
       " 248.48003333106533,\n",
       " 26.612549821826597,\n",
       " 19.160122062139767,\n",
       " 211.6567403790209,\n",
       " 30.06368158247848,\n",
       " 0.0,\n",
       " 20.790561851491187,\n",
       " 251.68942355841745]"
      ]
     },
     "execution_count": 147,
     "metadata": {},
     "output_type": "execute_result"
    }
   ],
   "source": [
    "real_surfden"
   ]
  },
  {
   "cell_type": "code",
   "execution_count": 247,
   "metadata": {},
   "outputs": [
    {
     "name": "stdout",
     "output_type": "stream",
     "text": [
      "                    Robust linear Model Regression Results                    \n",
      "==============================================================================\n",
      "Dep. Variable:                      y   No. Observations:                   17\n",
      "Model:                            RLM   Df Residuals:                       15\n",
      "Method:                          IRLS   Df Model:                            1\n",
      "Norm:                          HuberT                                         \n",
      "Scale Est.:                       mad                                         \n",
      "Cov Type:                          H1                                         \n",
      "Date:                Mon, 09 Mar 2020                                         \n",
      "Time:                        10:06:36                                         \n",
      "No. Iterations:                    17                                         \n",
      "==============================================================================\n",
      "                 coef    std err          z      P>|z|      [0.025      0.975]\n",
      "------------------------------------------------------------------------------\n",
      "const          4.6374      0.397     11.679      0.000       3.859       5.416\n",
      "x1            -0.2283      0.099     -2.315      0.021      -0.422      -0.035\n",
      "==============================================================================\n",
      "\n",
      "If the model instance has been used for another fit with different fit\n",
      "parameters, then the fit options might not be the correct ones anymore .\n",
      "[ 4.63739191 -0.22828144]\n"
     ]
    },
    {
     "data": {
      "image/png": "[encoded data removed]",
      "text/plain": [
       "<Figure size 864x720 with 1 Axes>"
      ]
     },
     "metadata": {
      "needs_background": "light"
     },
     "output_type": "display_data"
    },
    {
     "name": "stdout",
     "output_type": "stream",
     "text": [
      "mad(Residual): 0.3210719958788175\n"
     ]
    }
   ],
   "source": [
    "###################################\n",
    "### Fit Surface Density Profile ###\n",
    "###################################\n",
    "\n",
    "'''\n",
    "model is sigma = A*exp(B*r)\n",
    "A central density \n",
    "B radial scale height \n",
    "r radius\n",
    "\n",
    "ln(sigma) = lnA + B*r\n",
    "'''\n",
    "\n",
    "import statsmodels.api as sm \n",
    "\n",
    "field_list = [np.where(bloopdr16['FIELD']=='30Dor'),np.where(bloopdr16['FIELD']=='LMC1'),\n",
    "              np.where(bloopdr16['FIELD']=='LMC2'),np.where(bloopdr16['FIELD']=='LMC3'),\n",
    "              np.where(bloopdr16['FIELD']=='LMC4'),np.where(bloopdr16['FIELD']=='LMC5'),\n",
    "              np.where(bloopdr16['FIELD']=='LMC6'),np.where(bloopdr16['FIELD']=='LMC7'),\n",
    "              np.where(bloopdr16['FIELD']=='LMC8'),np.where(bloopdr16['FIELD']=='LMC9'),\n",
    "              np.where(bloopdr16['FIELD']=='LMC10'),np.where(bloopdr16['FIELD']=='LMC11'),\n",
    "              np.where(bloopdr16['FIELD']=='LMC12'),np.where(bloopdr16['FIELD']=='LMC13'),\n",
    "              np.where(bloopdr16['FIELD']=='LMC14'),np.where(bloopdr16['FIELD']=='LMC15'),\n",
    "              np.where(bloopdr16['FIELD']=='LMC16'),np.where(bloopdr16['FIELD']=='LMC17')]\n",
    "\n",
    "real_radii = []\n",
    "# fields\n",
    "for i in range(len(fields)):\n",
    "    if real_surfden[i] == 0.0:\n",
    "        real_radii.append(0.0)\n",
    "    else:\n",
    "        real_radii.append(np.sqrt(np.median(dfunc.LMCdisk_cart(bloopdr16['RA'][field_list[i]],\n",
    "                                                          bloopdr16['DEC'][field_list[i]])[0])**2 + \n",
    "                             np.median(dfunc.LMCdisk_cart(bloopdr16['RA'][field_list[i]],\n",
    "                                                    bloopdr16['DEC'][field_list[i]])[1])**2))\n",
    "    \n",
    "real_radii_rm15 = np.delete(real_radii,-3)\n",
    "real_surfden_rm15 = np.delete(real_surfden,-3)\n",
    "\n",
    "model = np.array([real_radii_rm15]).T\n",
    "model = sm.add_constant(model)\n",
    "model_model = sm.RLM(np.log(real_surfden_rm15),model).fit()\n",
    "model_predictions = model_model.predict(model)\n",
    "model_residual = model_predictions - np.log(real_surfden_rm15)\n",
    "model_summary = model_model.summary()\n",
    "print(model_summary)\n",
    "print(np.asarray(model_model.params))\n",
    "\n",
    "plt.figure(figsize=[12,10])\n",
    "plt.scatter(real_radii_rm15,model_residual,marker='+',label='Residuals',cmap='nipy_spectral',s=100)\n",
    "plt.axhline(dfunc.mad(model_residual),linestyle='--',c='r',label='MAD')\n",
    "plt.axhline(-dfunc.mad(model_residual),linestyle='--',c='r')\n",
    "plt.title(r'Surface Density Residuals')\n",
    "plt.xlabel(r'Radius (kpc)')\n",
    "plt.ylabel(r'Residuals $Log(M_\\odot/pc^2)$')\n",
    "# plt.colorbar()\n",
    "# plt.savefig('residexpmodel.pdf',bbox_inches='tight')\n",
    "plt.show()\n",
    "print('mad(Residual):',dfunc.mad(model_residual))"
   ]
  },
  {
   "cell_type": "code",
   "execution_count": 250,
   "metadata": {},
   "outputs": [
    {
     "data": {
      "text/plain": [
       "1.527737106021044"
      ]
     },
     "execution_count": 250,
     "metadata": {},
     "output_type": "execute_result"
    }
   ],
   "source": [
    "np.reciprocal(0.22828144+0.099)"
   ]
  },
  {
   "cell_type": "code",
   "execution_count": 133,
   "metadata": {},
   "outputs": [
    {
     "name": "stdout",
     "output_type": "stream",
     "text": [
      "[0.58691667 5.44988923 6.36681075 4.49022569 2.85802278 2.44895674\n",
      " 3.25125843 5.05825722 2.12363811 0.56987574 4.54667625 3.84477309\n",
      " 5.76152747 1.49974469 2.03866955 5.7938223  4.58152684]\n",
      "[ 73.45644145  43.32235794  17.72975223  44.84690643  28.68525418\n",
      "  65.18412241  28.59629809  32.08475433  39.44872045 139.72682806\n",
      " 248.48003333  26.814517    19.16012206 211.65674038  30.06368158\n",
      "  21.03266986 251.68942356]\n"
     ]
    }
   ],
   "source": [
    "real_radii_rm15 = np.delete(real_radii,-3)\n",
    "real_surfden_rm15 = np.delete(real_surfden,-3)\n",
    "\n",
    "print(real_radii_rm15)\n",
    "print(real_surfden_rm15)"
   ]
  },
  {
   "cell_type": "code",
   "execution_count": 255,
   "metadata": {
    "scrolled": false
   },
   "outputs": [
    {
     "data": {
      "image/png": "[encoded data removed]",
      "text/plain": [
       "<Figure size 864x720 with 1 Axes>"
      ]
     },
     "metadata": {
      "needs_background": "light"
     },
     "output_type": "display_data"
    }
   ],
   "source": [
    "#################################\n",
    "### Realistic Density Profile ###\n",
    "#################################\n",
    "\n",
    "def realisticfunc(r):\n",
    "    p = [ 4.61269004, -0.22536812] \n",
    "    return p[0]+np.multiply(p[1],r)\n",
    "\n",
    "plt.figure(figsize=[12,10])\n",
    "plt.scatter(real_radii_rm15,real_surfden_rm15,marker='+',label='Data',cmap='nipy_spectral',s=100)\n",
    "plt.plot(real_radii_rm15,np.exp(realisticfunc(real_radii_rm15)),c='r',label='Exp Disk Model')\n",
    "plt.yscale('log')\n",
    "plt.xlabel(r'Radius (kpc)')\n",
    "plt.ylabel(r'Log($\\Sigma(r)$)   $M_\\odot/pc^2$')\n",
    "plt.title('Realistic Surface Density Profile for the LMC')\n",
    "plt.legend()\n",
    "for i in range(len(real_radii_rm15)):\n",
    "    plt.text(real_radii_rm15[i]*(1+0.01),real_surfden_rm15[i]*(1+0.01),'{}'.format(fields[i]))\n",
    "# plt.colorbar()\n",
    "plt.savefig('realisticdensity.pdf',bbox_inches='tight')\n",
    "plt.show()"
   ]
  },
  {
   "cell_type": "code",
   "execution_count": 141,
   "metadata": {},
   "outputs": [
    {
     "data": {
      "text/plain": [
       "1.5293675425935742"
      ]
     },
     "execution_count": 141,
     "metadata": {},
     "output_type": "execute_result"
    }
   ],
   "source": [
    "np.reciprocal(0.23393253+.093)/2"
   ]
  },
  {
   "cell_type": "code",
   "execution_count": 251,
   "metadata": {},
   "outputs": [
    {
     "data": {
      "text/plain": [
       "array([ 794687.0787177 , 1711156.15921611, 1678877.29110459,\n",
       "       1215526.84896253, 1154819.18875774, 1194616.32006079,\n",
       "       1079065.19255492, 1063061.3547682 , 1141534.41842225,\n",
       "       1028460.55329948, 1196636.06656034,  977811.07873673,\n",
       "       1232254.95335595, 1025096.74322214, 1050345.36098006,\n",
       "             0.        , 1380437.80269685,  987793.66022871])"
      ]
     },
     "execution_count": 251,
     "metadata": {},
     "output_type": "execute_result"
    }
   ],
   "source": [
    "areas"
   ]
  },
  {
   "cell_type": "code",
   "execution_count": 119,
   "metadata": {},
   "outputs": [
    {
     "data": {
      "text/plain": [
       "2.4038461538461537"
      ]
     },
     "execution_count": 119,
     "metadata": {},
     "output_type": "execute_result"
    }
   ],
   "source": [
    "np.reciprocal(0.416)"
   ]
  },
  {
   "cell_type": "code",
   "execution_count": 89,
   "metadata": {},
   "outputs": [
    {
     "data": {
      "text/plain": [
       "0.32130000000000003"
      ]
     },
     "execution_count": 89,
     "metadata": {},
     "output_type": "execute_result"
    }
   ],
   "source": [
    "0.2263+.095"
   ]
  },
  {
   "cell_type": "code",
   "execution_count": 47,
   "metadata": {},
   "outputs": [
    {
     "data": {
      "text/plain": [
       "0.5952380952380952"
      ]
     },
     "execution_count": 47,
     "metadata": {},
     "output_type": "execute_result"
    }
   ],
   "source": [
    "np.reciprocal(1.68)"
   ]
  },
  {
   "cell_type": "code",
   "execution_count": 87,
   "metadata": {},
   "outputs": [
    {
     "data": {
      "text/plain": [
       "2.6303053258422238"
      ]
     },
     "execution_count": 87,
     "metadata": {},
     "output_type": "execute_result"
    }
   ],
   "source": [
    "np.reciprocal(0.2263/np.reciprocal(1.68))"
   ]
  },
  {
   "cell_type": "code",
   "execution_count": 68,
   "metadata": {},
   "outputs": [
    {
     "data": {
      "text/plain": [
       "[0.0,\n",
       " 0.0046045,\n",
       " 0.0046045,\n",
       " 0.0036781,\n",
       " 0.0046045,\n",
       " 0.0057617,\n",
       " 0.0046045,\n",
       " 0.0046045,\n",
       " 0.0,\n",
       " 0.0046045,\n",
       " 0.0,\n",
       " 0.0046045,\n",
       " 0.0,\n",
       " 0.0046045,\n",
       " 0.0046045,\n",
       " 0.0046045,\n",
       " 0.0,\n",
       " 0.0046045,\n",
       " 0.0,\n",
       " 0.0057617,\n",
       " 0.0046045,\n",
       " 0.0046045,\n",
       " 0.0046045,\n",
       " 0.0036781,\n",
       " 0.0036781,\n",
       " 0.0046045,\n",
       " 0.0,\n",
       " 0.0046045,\n",
       " 0.0,\n",
       " 0.0046045,\n",
       " 0.0,\n",
       " 0.0,\n",
       " 0.0046045,\n",
       " 0.0046045,\n",
       " 0.0046045,\n",
       " 0.0036781]"
      ]
     },
     "execution_count": 68,
     "metadata": {},
     "output_type": "execute_result"
    }
   ],
   "source": [
    "real_iso_z"
   ]
  },
  {
   "cell_type": "code",
   "execution_count": 19,
   "metadata": {},
   "outputs": [],
   "source": [
    "# 'LMC1_brt'\n",
    "\n",
    "single_iso = np.where((parsec['Zini']==0.0036781)&\n",
    "                          (parsec['logAge']==9.5))#&\n",
    "                          #(parsec['Hmag']<=-5.148692225694063))\n",
    "    \n",
    "    #upto = np.where(parsec_ascii_table[single_iso]['Hmag']==np.min(parsec_ascii_table[single_iso]['Hmag']))\n",
    "    #new_parsec = parsec_ascii_table[single_iso][0:int(np.squeeze(upto))]\n",
    "    \n",
    "x1 = parsec[single_iso]['Hmag']\n",
    "y1 = parsec[single_iso]['int_IMF']\n",
    "    \n",
    "points = zip(x1, y1)\n",
    "    \n",
    "points = sorted(points, key=lambda point: point[0])\n",
    "    \n",
    "x2, y2 = zip(*points)\n",
    "    \n",
    "#     inter_iso = interp1d(x2,y2,kind='cubic',bounds_error=False,fill_value='extrapolate',assume_sorted=False)"
   ]
  },
  {
   "cell_type": "code",
   "execution_count": 20,
   "metadata": {},
   "outputs": [
    {
     "data": {
      "text/plain": [
       "array([-6.21073978, -6.21266497, -6.30670304, ..., -5.71006984,\n",
       "       -4.33757072, -4.68235121])"
      ]
     },
     "execution_count": 20,
     "metadata": {},
     "output_type": "execute_result"
    }
   ],
   "source": [
    "corabsH"
   ]
  },
  {
   "cell_type": "code",
   "execution_count": 25,
   "metadata": {},
   "outputs": [
    {
     "data": {
      "image/png": "[encoded data removed]",
      "text/plain": [
       "<Figure size 720x720 with 1 Axes>"
      ]
     },
     "metadata": {
      "needs_background": "light"
     },
     "output_type": "display_data"
    },
    {
     "data": {
      "text/plain": [
       "[<matplotlib.lines.Line2D at 0x11bd84898>]"
      ]
     },
     "execution_count": 25,
     "metadata": {},
     "output_type": "execute_result"
    },
    {
     "data": {
      "image/png": "[encoded data removed]",
      "text/plain": [
       "<Figure size 720x720 with 1 Axes>"
      ]
     },
     "metadata": {
      "needs_background": "light"
     },
     "output_type": "display_data"
    }
   ],
   "source": [
    "plt.figure(figsize=[10,10])\n",
    "plt.plot(y2)\n",
    "plt.show()\n",
    "plt.figure(figsize=[10,10])\n",
    "plt.axhline(-2)\n",
    "plt.plot(x2)"
   ]
  },
  {
   "cell_type": "code",
   "execution_count": 27,
   "metadata": {},
   "outputs": [
    {
     "ename": "TypeError",
     "evalue": "'numpy.ndarray' object is not callable",
     "output_type": "error",
     "traceback": [
      "\u001b[0;31m---------------------------------------------------------------------------\u001b[0m",
      "\u001b[0;31mTypeError\u001b[0m                                 Traceback (most recent call last)",
      "\u001b[0;32m<ipython-input-27-b157b0db0049>\u001b[0m in \u001b[0;36m<module>\u001b[0;34m\u001b[0m\n\u001b[1;32m      2\u001b[0m \u001b[0my\u001b[0m \u001b[0;34m=\u001b[0m \u001b[0mnp\u001b[0m\u001b[0;34m.\u001b[0m\u001b[0masarray\u001b[0m\u001b[0;34m(\u001b[0m\u001b[0;34m[\u001b[0m\u001b[0;36m1\u001b[0m\u001b[0;34m,\u001b[0m\u001b[0;36m2\u001b[0m\u001b[0;34m,\u001b[0m\u001b[0;36m3\u001b[0m\u001b[0;34m,\u001b[0m\u001b[0;36m4\u001b[0m\u001b[0;34m,\u001b[0m\u001b[0;36m5\u001b[0m\u001b[0;34m,\u001b[0m\u001b[0;36m6\u001b[0m\u001b[0;34m]\u001b[0m\u001b[0;34m)\u001b[0m\u001b[0;34m\u001b[0m\u001b[0;34m\u001b[0m\u001b[0m\n\u001b[1;32m      3\u001b[0m \u001b[0;34m\u001b[0m\u001b[0m\n\u001b[0;32m----> 4\u001b[0;31m \u001b[0mx\u001b[0m\u001b[0;34m(\u001b[0m\u001b[0mx\u001b[0m\u001b[0;34m<\u001b[0m\u001b[0;36m4\u001b[0m\u001b[0;34m)\u001b[0m\u001b[0;34m\u001b[0m\u001b[0;34m\u001b[0m\u001b[0m\n\u001b[0m",
      "\u001b[0;31mTypeError\u001b[0m: 'numpy.ndarray' object is not callable"
     ]
    }
   ],
   "source": [
    "x = np.asarray([1,2,3,4,4,5])\n",
    "y = np.asarray([1,2,3,4,5,6])\n",
    "\n",
    "x(x<4)"
   ]
  },
  {
   "cell_type": "code",
   "execution_count": 52,
   "metadata": {},
   "outputs": [
    {
     "data": {
      "text/plain": [
       "[0.0,\n",
       " 9.95,\n",
       " 9.95,\n",
       " 9.95,\n",
       " 9.95,\n",
       " 9.95,\n",
       " 9.95,\n",
       " 9.95,\n",
       " 0.0,\n",
       " 9.95,\n",
       " 0.0,\n",
       " 9.95,\n",
       " 0.0,\n",
       " 9.95,\n",
       " 9.95,\n",
       " 9.95,\n",
       " 0.0,\n",
       " 9.95,\n",
       " 0.0,\n",
       " 9.95,\n",
       " 9.95,\n",
       " 9.95,\n",
       " 9.95,\n",
       " 9.95,\n",
       " 9.95,\n",
       " 9.95,\n",
       " 0.0,\n",
       " 9.95,\n",
       " 0.0,\n",
       " 9.95,\n",
       " 0.0,\n",
       " 0.0,\n",
       " 9.95,\n",
       " 9.95,\n",
       " 9.95,\n",
       " 9.95]"
      ]
     },
     "execution_count": 52,
     "metadata": {},
     "output_type": "execute_result"
    }
   ],
   "source": [
    "real_iso_age"
   ]
  },
  {
   "cell_type": "code",
   "execution_count": 22,
   "metadata": {},
   "outputs": [
    {
     "data": {
      "text/plain": [
       "(array([ 35., 513., 792., 285., 222., 157.,  81.,  60.,  64.,  22.]),\n",
       " array([-6.48552125, -6.2257918 , -5.96606236, -5.70633291, -5.44660346,\n",
       "        -5.18687401, -4.92714456, -4.66741511, -4.40768566, -4.14795621,\n",
       "        -3.88822676]),\n",
       " <a list of 10 Patch objects>)"
      ]
     },
     "execution_count": 22,
     "metadata": {},
     "output_type": "execute_result"
    },
    {
     "data": {
      "image/png": "[encoded data removed]",
      "text/plain": [
       "<Figure size 432x288 with 1 Axes>"
      ]
     },
     "metadata": {
      "needs_background": "light"
     },
     "output_type": "display_data"
    }
   ],
   "source": [
    "plt.hist(corabsH)"
   ]
  },
  {
   "cell_type": "code",
   "execution_count": 61,
   "metadata": {},
   "outputs": [
    {
     "data": {
      "text/plain": [
       "{3.9311e-05,\n",
       " 4.9343e-05,\n",
       " 6.1936e-05,\n",
       " 7.7742e-05,\n",
       " 9.7582e-05,\n",
       " 0.00012249,\n",
       " 0.00015374,\n",
       " 0.00019298,\n",
       " 0.00024223,\n",
       " 0.00030405,\n",
       " 0.00038165,\n",
       " 0.00047904,\n",
       " 0.0006013,\n",
       " 0.00075475,\n",
       " 0.00094737,\n",
       " 0.0011885,\n",
       " 0.0014909,\n",
       " 0.0018702,\n",
       " 0.0023437,\n",
       " 0.0029361,\n",
       " 0.0036781,\n",
       " 0.0046045,\n",
       " 0.0057617,\n",
       " 0.0071947,\n",
       " 0.0089713,\n",
       " 0.011172,\n",
       " 0.013905,\n",
       " 0.017224}"
      ]
     },
     "execution_count": 61,
     "metadata": {},
     "output_type": "execute_result"
    }
   ],
   "source": [
    "set(parsec[np.where(parsec['logAge']==9.5)]['Zini'])"
   ]
  },
  {
   "cell_type": "code",
   "execution_count": 22,
   "metadata": {},
   "outputs": [
    {
     "data": {
      "text/plain": [
       "array([ 9,  9,  9, ...,  9, 10, 10], dtype=int32)"
      ]
     },
     "execution_count": 22,
     "metadata": {},
     "output_type": "execute_result"
    }
   ],
   "source": [
    "bloopdr16['TARGET_TYPE']"
   ]
  },
  {
   "cell_type": "code",
   "execution_count": 32,
   "metadata": {},
   "outputs": [
    {
     "data": {
      "text/plain": [
       "chararray(['FntRGB', 'FntRGB', 'FntRGB', 'FntRGB', 'FntRGB', 'FntRGB',\n",
       "           'FntRGB', 'FntRGB', 'FntRGB', 'FntRGB', 'FntRGB', 'FntRGB',\n",
       "           'FntRGB', 'FntRGB', 'FntRGB', 'FntRGB', 'FntRGB', 'FntRGB',\n",
       "           'FntRGB', 'FntRGB', 'FntRGB', 'FntRGB', 'FntRGB', 'FntRGB',\n",
       "           'FntRGB', 'FntRGB', 'FntRGB', 'FntRGB', 'FntRGB', 'FntRGB',\n",
       "           'FntRGB', 'FntRGB', 'FntRGB', 'FntRGB', 'FntRGB', 'FntRGB',\n",
       "           'FntRGB', 'FntRGB', 'FntRGB', 'FntRGB', 'FntRGB', 'FntRGB',\n",
       "           'FntRGB', 'FntRGB', 'FntRGB', 'FntRGB', 'FntRGB', 'FntRGB',\n",
       "           'FntRGB', 'FntRGB', 'FntRGB', 'FntRGB', 'FntRGB', 'FntRGB',\n",
       "           'FntRGB', 'FntRGB', 'FntRGB', 'FntRGB', 'FntRGB', 'FntRGB',\n",
       "           'FntRGB', 'FntRGB', 'FntRGB', 'FntRGB', 'FntRGB', 'FntRGB',\n",
       "           'FntRGB', 'FntRGB', 'FntRGB', 'FntRGB', 'FntRGB', 'FntRGB',\n",
       "           'FntRGB', 'FntRGB', 'FntRGB', 'FntRGB', 'FntRGB', 'FntRGB',\n",
       "           'FntRGB', 'FntRGB', 'FntRGB', 'FntRGB', 'FntRGB', 'FntRGB',\n",
       "           'FntRGB', 'FntRGB', 'FntRGB', 'FntRGB', 'FntRGB', 'FntRGB',\n",
       "           'FntRGB', 'FntRGB', 'FntRGB', 'FntRGB', 'FntRGB', 'FntRGB',\n",
       "           'FntRGB', 'FntRGB', 'FntRGB', 'FntRGB', 'FntRGB', 'FntRGB',\n",
       "           'FntRGB', 'FntRGB', 'FntRGB', 'FntRGB', 'FntRGB', 'FntRGB',\n",
       "           'FntRGB', 'FntRGB', 'FntRGB', 'FntRGB', 'FntRGB', 'FntRGB',\n",
       "           'FntRGB', 'FntRGB', 'FntRGB', 'FntRGB', 'FntRGB', 'FntRGB',\n",
       "           'FntRGB', 'FntRGB', 'FntRGB', 'FntRGB', 'FntRGB', 'FntRGB',\n",
       "           'FntRGB', 'FntRGB', 'FntRGB', 'FntRGB', 'FntRGB', 'FntRGB',\n",
       "           'FntRGB', 'FntRGB', 'FntRGB', 'FntRGB', 'FntRGB', 'FntRGB',\n",
       "           'FntRGB', 'FntRGB', 'FntRGB', 'FntRGB', 'FntRGB', 'FntRGB',\n",
       "           'FntRGB', 'FntRGB', 'FntRGB', 'FntRGB', 'FntRGB', 'FntRGB',\n",
       "           'FntRGB', 'FntRGB', 'FntRGB', 'FntRGB', 'FntRGB', 'FntRGB',\n",
       "           'FntRGB', 'FntRGB', 'FntRGB', 'FntRGB', 'FntRGB', 'FntRGB',\n",
       "           'FntRGB', 'FntRGB', 'FntRGB', 'FntRGB', 'FntRGB', 'FntRGB',\n",
       "           'FntRGB', 'FntRGB', 'FntRGB', 'FntRGB', 'FntRGB', 'FntRGB',\n",
       "           'FntRGB', 'FntRGB', 'FntRGB', 'FntRGB', 'FntRGB', 'FntRGB',\n",
       "           'FntRGB', 'FntRGB', 'FntRGB', 'FntRGB', 'FntRGB', 'FntRGB',\n",
       "           'FntRGB', 'FntRGB', 'FntRGB', 'FntRGB', 'FntRGB', 'FntRGB',\n",
       "           'FntRGB', 'FntRGB', 'FntRGB', 'FntRGB', 'FntRGB', 'FntRGB',\n",
       "           'FntRGB', 'FntRGB', 'FntRGB', 'FntRGB', 'FntRGB', 'FntRGB',\n",
       "           'FntRGB', 'FntRGB', 'FntRGB', 'FntRGB', 'FntRGB', 'FntRGB',\n",
       "           'FntRGB', 'FntRGB', 'FntRGB', 'FntRGB', 'FntRGB', 'FntRGB',\n",
       "           'FntRGB', 'FntRGB', 'FntRGB', 'FntRGB', 'FntRGB', 'FntRGB',\n",
       "           'FntRGB', 'FntRGB', 'FntRGB', 'FntRGB', 'FntRGB', 'FntRGB',\n",
       "           'FntRGB', 'FntRGB', 'FntRGB', 'FntRGB', 'FntRGB', 'FntRGB',\n",
       "           'FntRGB', 'FntRGB', 'FntRGB', 'FntRGB', 'FntRGB', 'FntRGB',\n",
       "           'FntRGB', 'FntRGB', 'FntRGB', 'FntRGB', 'FntRGB', 'FntRGB',\n",
       "           'FntRGB', 'FntRGB', 'FntRGB', 'FntRGB', 'FntRGB', 'FntRGB',\n",
       "           'FntRGB', 'FntRGB', 'FntRGB', 'FntRGB', 'FntRGB', 'FntRGB',\n",
       "           'FntRGB', 'FntRGB', 'FntRGB', 'FntRGB', 'FntRGB', 'FntRGB',\n",
       "           'FntRGB', 'FntRGB', 'FntRGB', 'FntRGB', 'FntRGB', 'FntRGB',\n",
       "           'FntRGB', 'FntRGB', 'FntRGB', 'FntRGB', 'FntRGB', 'FntRGB',\n",
       "           'FntRGB', 'FntRGB', 'FntRGB', 'FntRGB', 'FntRGB', 'FntRGB',\n",
       "           'FntRGB', 'FntRGB', 'FntRGB', 'FntRGB', 'FntRGB', 'FntRGB',\n",
       "           'FntRGB', 'FntRGB', 'FntRGB', 'FntRGB', 'FntRGB', 'FntRGB',\n",
       "           'FntRGB', 'FntRGB', 'FntRGB', 'FntRGB', 'FntRGB', 'FntRGB',\n",
       "           'FntRGB', 'FntRGB', 'FntRGB', 'FntRGB', 'FntRGB', 'FntRGB',\n",
       "           'FntRGB', 'FntRGB', 'FntRGB', 'FntRGB', 'FntRGB', 'FntRGB',\n",
       "           'FntRGB', 'FntRGB', 'FntRGB', 'FntRGB', 'FntRGB', 'FntRGB',\n",
       "           'FntRGB', 'FntRGB', 'FntRGB', 'FntRGB', 'FntRGB', 'FntRGB',\n",
       "           'FntRGB', 'FntRGB', 'FntRGB', 'FntRGB', 'FntRGB', 'FntRGB',\n",
       "           'FntRGB', 'FntRGB', 'FntRGB', 'FntRGB', 'FntRGB', 'FntRGB',\n",
       "           'FntRGB', 'FntRGB', 'FntRGB', 'FntRGB', 'FntRGB', 'FntRGB',\n",
       "           'FntRGB', 'FntRGB', 'FntRGB', 'FntRGB', 'FntRGB', 'FntRGB',\n",
       "           'FntRGB', 'FntRGB', 'FntRGB', 'FntRGB', 'FntRGB', 'FntRGB',\n",
       "           'FntRGB', 'FntRGB', 'FntRGB', 'FntRGB', 'FntRGB', 'FntRGB',\n",
       "           'FntRGB', 'FntRGB', 'FntRGB', 'FntRGB', 'FntRGB', 'FntRGB',\n",
       "           'FntRGB', 'FntRGB', 'FntRGB', 'FntRGB', 'FntRGB', 'FntRGB',\n",
       "           'FntRGB', 'FntRGB', 'FntRGB', 'FntRGB', 'FntRGB', 'FntRGB',\n",
       "           'FntRGB', 'FntRGB', 'FntRGB', 'FntRGB', 'FntRGB', 'FntRGB',\n",
       "           'FntRGB', 'FntRGB', 'FntRGB', 'FntRGB', 'FntRGB', 'FntRGB',\n",
       "           'FntRGB', 'FntRGB', 'FntRGB', 'FntRGB', 'FntRGB', 'FntRGB',\n",
       "           'FntRGB', 'FntRGB', 'FntRGB', 'FntRGB', 'FntRGB', 'FntRGB',\n",
       "           'FntRGB', 'FntRGB', 'FntRGB', 'FntRGB', 'FntRGB', 'FntRGB',\n",
       "           'FntRGB', 'FntRGB', 'FntRGB', 'FntRGB', 'FntRGB', 'FntRGB',\n",
       "           'FntRGB', 'FntRGB', 'FntRGB', 'FntRGB', 'FntRGB', 'FntRGB',\n",
       "           'FntRGB', 'FntRGB', 'FntRGB', 'FntRGB', 'FntRGB', 'FntRGB',\n",
       "           'FntRGB', 'FntRGB', 'FntRGB', 'FntRGB', 'FntRGB', 'FntRGB',\n",
       "           'FntRGB', 'FntRGB', 'FntRGB', 'FntRGB', 'FntRGB', 'FntRGB',\n",
       "           'FntRGB', 'FntRGB', 'FntRGB', 'FntRGB', 'FntRGB', 'FntRGB',\n",
       "           'FntRGB', 'FntRGB', 'FntRGB', 'FntRGB', 'FntRGB', 'FntRGB',\n",
       "           'FntRGB', 'FntRGB', 'FntRGB', 'FntRGB', 'FntRGB', 'FntRGB',\n",
       "           'FntRGB', 'FntRGB', 'FntRGB', 'FntRGB', 'FntRGB', 'FntRGB',\n",
       "           'FntRGB', 'FntRGB', 'FntRGB', 'FntRGB', 'FntRGB', 'FntRGB',\n",
       "           'FntRGB', 'FntRGB', 'FntRGB', 'FntRGB', 'FntRGB', 'FntRGB',\n",
       "           'FntRGB', 'FntRGB', 'FntRGB', 'FntRGB', 'FntRGB', 'FntRGB',\n",
       "           'FntRGB', 'FntRGB', 'FntRGB', 'FntRGB', 'FntRGB', 'FntRGB',\n",
       "           'FntRGB', 'FntRGB', 'FntRGB', 'FntRGB', 'FntRGB', 'FntRGB',\n",
       "           'FntRGB', 'FntRGB', 'FntRGB', 'FntRGB', 'FntRGB', 'FntRGB',\n",
       "           'FntRGB', 'FntRGB', 'FntRGB', 'FntRGB', 'FntRGB', 'FntRGB',\n",
       "           'FntRGB', 'FntRGB', 'FntRGB', 'FntRGB', 'FntRGB', 'FntRGB',\n",
       "           'FntRGB', 'FntRGB', 'FntRGB', 'FntRGB', 'FntRGB', 'FntRGB',\n",
       "           'FntRGB', 'FntRGB', 'FntRGB', 'FntRGB', 'FntRGB', 'FntRGB',\n",
       "           'FntRGB', 'FntRGB', 'FntRGB', 'FntRGB', 'FntRGB', 'FntRGB',\n",
       "           'FntRGB', 'FntRGB', 'FntRGB', 'FntRGB', 'FntRGB', 'FntRGB',\n",
       "           'FntRGB', 'FntRGB', 'FntRGB', 'FntRGB', 'FntRGB', 'FntRGB',\n",
       "           'FntRGB', 'FntRGB', 'FntRGB', 'FntRGB', 'FntRGB', 'FntRGB',\n",
       "           'FntRGB', 'FntRGB', 'FntRGB', 'FntRGB', 'FntRGB', 'FntRGB',\n",
       "           'FntRGB', 'FntRGB', 'FntRGB', 'FntRGB', 'FntRGB', 'FntRGB',\n",
       "           'FntRGB', 'FntRGB', 'FntRGB', 'FntRGB', 'FntRGB', 'FntRGB',\n",
       "           'FntRGB', 'FntRGB', 'FntRGB', 'FntRGB', 'FntRGB', 'FntRGB',\n",
       "           'FntRGB', 'FntRGB', 'FntRGB', 'FntRGB', 'FntRGB', 'FntRGB',\n",
       "           'FntRGB', 'FntRGB', 'FntRGB', 'FntRGB', 'FntRGB', 'FntRGB',\n",
       "           'FntRGB', 'FntRGB', 'FntRGB', 'FntRGB', 'FntRGB', 'FntRGB',\n",
       "           'FntRGB', 'FntRGB', 'FntRGB', 'FntRGB', 'FntRGB', 'FntRGB',\n",
       "           'FntRGB', 'FntRGB', 'FntRGB', 'FntRGB', 'FntRGB', 'FntRGB',\n",
       "           'FntRGB', 'FntRGB', 'FntRGB', 'FntRGB', 'FntRGB', 'FntRGB',\n",
       "           'FntRGB', 'FntRGB', 'FntRGB', 'FntRGB', 'FntRGB', 'FntRGB',\n",
       "           'FntRGB', 'FntRGB', 'FntRGB', 'FntRGB', 'FntRGB', 'FntRGB',\n",
       "           'FntRGB', 'FntRGB', 'FntRGB', 'FntRGB', 'FntRGB', 'FntRGB',\n",
       "           'FntRGB', 'FntRGB', 'FntRGB', 'FntRGB', 'FntRGB', 'FntRGB',\n",
       "           'FntRGB', 'FntRGB', 'FntRGB', 'FntRGB', 'FntRGB', 'FntRGB',\n",
       "           'FntRGB', 'FntRGB', 'FntRGB', 'FntRGB', 'FntRGB', 'FntRGB',\n",
       "           'FntRGB', 'FntRGB', 'FntRGB', 'FntRGB', 'FntRGB', 'FntRGB',\n",
       "           'FntRGB', 'FntRGB', 'FntRGB', 'FntRGB', 'FntRGB', 'FntRGB',\n",
       "           'FntRGB', 'FntRGB', 'FntRGB', 'FntRGB', 'FntRGB', 'FntRGB',\n",
       "           'FntRGB', 'FntRGB', 'FntRGB', 'FntRGB', 'FntRGB', 'FntRGB',\n",
       "           'FntRGB', 'FntRGB', 'FntRGB', 'FntRGB', 'FntRGB', 'FntRGB',\n",
       "           'FntRGB', 'FntRGB', 'FntRGB', 'FntRGB', 'FntRGB', 'FntRGB',\n",
       "           'FntRGB', 'FntRGB', 'FntRGB', 'FntRGB', 'FntRGB', 'FntRGB',\n",
       "           'FntRGB', 'FntRGB', 'FntRGB', 'FntRGB', 'FntRGB', 'FntRGB',\n",
       "           'FntRGB', 'FntRGB', 'FntRGB', 'FntRGB', 'FntRGB', 'FntRGB',\n",
       "           'FntRGB', 'FntRGB', 'FntRGB', 'FntRGB', 'FntRGB', 'FntRGB',\n",
       "           'FntRGB', 'FntRGB', 'FntRGB', 'FntRGB', 'FntRGB', 'FntRGB',\n",
       "           'FntRGB', 'FntRGB', 'FntRGB', 'FntRGB', 'FntRGB', 'FntRGB',\n",
       "           'FntRGB', 'FntRGB', 'FntRGB', 'FntRGB', 'FntRGB', 'FntRGB',\n",
       "           'FntRGB', 'FntRGB', 'FntRGB', 'FntRGB', 'FntRGB', 'FntRGB',\n",
       "           'FntRGB', 'FntRGB', 'FntRGB', 'FntRGB', 'FntRGB', 'FntRGB',\n",
       "           'FntRGB', 'FntRGB', 'FntRGB', 'FntRGB', 'FntRGB', 'FntRGB',\n",
       "           'FntRGB', 'FntRGB', 'FntRGB', 'FntRGB', 'FntRGB', 'FntRGB',\n",
       "           'FntRGB', 'FntRGB', 'FntRGB', 'FntRGB', 'FntRGB', 'FntRGB',\n",
       "           'FntRGB', 'FntRGB', 'FntRGB', 'FntRGB', 'FntRGB', 'FntRGB',\n",
       "           'FntRGB', 'FntRGB', 'FntRGB', 'FntRGB', 'FntRGB', 'FntRGB',\n",
       "           'FntRGB', 'FntRGB', 'FntRGB', 'FntRGB', 'FntRGB', 'FntRGB',\n",
       "           'FntRGB', 'FntRGB', 'FntRGB', 'FntRGB', 'FntRGB', 'FntRGB',\n",
       "           'FntRGB', 'FntRGB', 'FntRGB', 'FntRGB', 'FntRGB', 'FntRGB',\n",
       "           'FntRGB', 'FntRGB', 'FntRGB', 'FntRGB', 'FntRGB', 'FntRGB',\n",
       "           'FntRGB', 'FntRGB', 'FntRGB', 'FntRGB', 'FntRGB', 'FntRGB',\n",
       "           'FntRGB', 'FntRGB', 'FntRGB', 'FntRGB', 'FntRGB', 'FntRGB',\n",
       "           'FntRGB', 'FntRGB', 'FntRGB', 'FntRGB', 'FntRGB', 'FntRGB',\n",
       "           'FntRGB', 'FntRGB', 'FntRGB', 'FntRGB', 'FntRGB', 'FntRGB',\n",
       "           'FntRGB', 'FntRGB', 'FntRGB', 'FntRGB', 'FntRGB', 'FntRGB',\n",
       "           'FntRGB', 'FntRGB', 'FntRGB', 'FntRGB', 'FntRGB', 'FntRGB',\n",
       "           'FntRGB', 'FntRGB', 'FntRGB', 'FntRGB', 'FntRGB', 'FntRGB',\n",
       "           'FntRGB', 'FntRGB', 'FntRGB', 'FntRGB', 'FntRGB', 'FntRGB',\n",
       "           'FntRGB', 'FntRGB', 'FntRGB', 'FntRGB', 'FntRGB', 'FntRGB',\n",
       "           'FntRGB', 'FntRGB', 'FntRGB', 'FntRGB', 'FntRGB', 'FntRGB',\n",
       "           'FntRGB', 'FntRGB', 'FntRGB', 'FntRGB', 'FntRGB', 'FntRGB',\n",
       "           'FntRGB', 'FntRGB', 'FntRGB', 'FntRGB', 'FntRGB', 'FntRGB',\n",
       "           'FntRGB', 'FntRGB', 'FntRGB', 'FntRGB', 'FntRGB', 'FntRGB',\n",
       "           'FntRGB', 'FntRGB', 'FntRGB', 'FntRGB', 'FntRGB', 'FntRGB',\n",
       "           'FntRGB', 'FntRGB', 'FntRGB', 'FntRGB', 'FntRGB', 'FntRGB',\n",
       "           'FntRGB', 'FntRGB', 'FntRGB', 'FntRGB', 'FntRGB', 'FntRGB',\n",
       "           'FntRGB', 'FntRGB', 'FntRGB', 'FntRGB', 'FntRGB', 'FntRGB',\n",
       "           'FntRGB', 'FntRGB', 'FntRGB', 'FntRGB', 'FntRGB', 'FntRGB',\n",
       "           'FntRGB', 'FntRGB', 'FntRGB', 'FntRGB', 'FntRGB', 'FntRGB',\n",
       "           'FntRGB', 'FntRGB', 'FntRGB', 'FntRGB', 'FntRGB', 'FntRGB',\n",
       "           'FntRGB', 'FntRGB', 'FntRGB', 'FntRGB', 'FntRGB', 'FntRGB',\n",
       "           'FntRGB', 'FntRGB'], dtype='<U6')"
      ]
     },
     "execution_count": 32,
     "metadata": {},
     "output_type": "execute_result"
    }
   ],
   "source": [
    "bloopdr16[np.where(bloopdr16['TARGET_TYPE']==10)]['TARGET_NAME']"
   ]
  },
  {
   "cell_type": "code",
   "execution_count": 94,
   "metadata": {},
   "outputs": [
    {
     "data": {
      "text/plain": [
       "{'30Dor_fnt': (array([], dtype=int64),),\n",
       " '30Dor_brt': (array([80, 81, 82, 83, 84, 85, 86, 87, 88, 89, 90, 91, 92, 93, 94]),),\n",
       " 'LMC1_fnt': (array([370, 371, 372, 373, 374, 375, 376, 377, 378, 379, 380, 381, 382,\n",
       "         383, 384, 385, 386, 387, 388, 389, 390, 391, 392, 393, 394, 395,\n",
       "         396, 397, 398, 399, 400, 401, 402, 403, 404, 405, 406, 407, 408,\n",
       "         409, 410, 411, 412, 413, 414, 415, 416, 417, 418, 419, 420, 421,\n",
       "         422, 423, 424, 425, 426, 427, 428, 429, 430, 431, 432, 433, 434,\n",
       "         435, 436, 437, 438, 439, 440, 441, 442, 443, 444, 445, 446, 447,\n",
       "         448, 449, 450, 451, 452, 453, 454, 455, 456, 457, 458, 459, 460,\n",
       "         461, 462, 463, 464, 465, 466, 467, 468, 469, 470, 471, 472, 473,\n",
       "         474, 475, 476, 477, 478, 479, 480, 481, 482, 483, 484, 485, 486,\n",
       "         487, 488, 489, 490, 491, 492, 493, 494, 495]),),\n",
       " 'LMC1_brt': (array([1104, 1105, 1106, 1107, 1108, 1109, 1110, 1111]),),\n",
       " 'LMC2_fnt': (array([552, 553, 554, 555, 556, 557, 558, 559, 560, 561, 562, 563, 564,\n",
       "         565, 566, 567, 568, 569, 570, 571, 572, 573, 574, 575, 576, 577,\n",
       "         578, 579, 580, 581, 582, 583, 584, 585, 586, 587, 588, 589, 590,\n",
       "         591, 592, 593, 594, 595, 596, 597, 598, 599, 600, 601, 602, 603,\n",
       "         604, 605, 606, 607, 608, 609, 610, 611, 612, 613, 614, 615, 616,\n",
       "         617, 618, 619, 620, 621, 622, 623, 624, 625, 626, 627, 628, 629,\n",
       "         630, 631, 632, 633, 634, 635, 636, 637, 638, 639, 640, 641, 642,\n",
       "         643, 644, 645, 646, 647, 648]),),\n",
       " 'LMC2_brt': (array([1223, 1224, 1225, 1226, 1227, 1228, 1229, 1230, 1231]),),\n",
       " 'LMC3_fnt': (array([233, 234, 235, 236, 237, 238, 239, 240, 241, 242, 243, 244, 245,\n",
       "         246, 247, 248, 249, 250, 251, 252, 253, 254, 255, 256, 257, 258,\n",
       "         259, 260, 261, 262, 263, 264, 265, 266, 267, 268, 269, 270, 271,\n",
       "         272, 273, 274, 275, 276, 277, 278, 279, 280, 281, 282, 283, 284,\n",
       "         285, 286, 287, 288, 289, 290, 291, 292, 293, 294, 295, 296, 297,\n",
       "         298, 299, 300, 301, 302, 303, 304, 305, 306, 307, 308, 309, 310,\n",
       "         311, 312, 313, 314, 315, 316, 317, 318, 319, 320, 321, 322, 323,\n",
       "         324, 325, 326, 327, 328, 329, 330, 331, 332, 333, 334, 335, 336,\n",
       "         337, 338, 339, 340, 341, 342, 343, 344, 345, 346, 347, 348, 349,\n",
       "         350, 351, 352, 353, 354, 355, 356, 357, 358, 359, 360, 361, 362,\n",
       "         363, 364, 365, 366, 367, 368, 369]),),\n",
       " 'LMC3_brt': (array([1084, 1085, 1086, 1087, 1088, 1089, 1090, 1091, 1092, 1093, 1094,\n",
       "         1095, 1096, 1097, 1098, 1099, 1100, 1101, 1102, 1103]),),\n",
       " 'LMC4_fnt': (array([], dtype=int64),),\n",
       " 'LMC4_brt': (array([691, 692, 693, 694, 695, 696, 697, 698, 699, 700, 701, 702, 703,\n",
       "         704, 705, 706, 707, 708, 709, 710, 711, 712, 713, 714, 715, 716,\n",
       "         717, 718, 719, 720, 721, 722, 723, 724, 725, 726, 727, 728, 729,\n",
       "         730, 731, 732, 733, 734, 735, 736, 737, 738, 739, 740, 741, 742,\n",
       "         743, 744, 745, 746, 747, 748, 749, 750, 751, 752, 753, 754, 755,\n",
       "         756, 757, 758, 759, 760, 761, 762, 763, 764, 765, 766, 767, 768,\n",
       "         769, 770, 771, 772, 773, 774, 775, 776, 777, 778, 779, 780, 781,\n",
       "         782, 783, 784, 785, 786, 787, 788, 789, 790, 791, 792, 793, 794,\n",
       "         795, 796, 797, 798, 799, 800, 801, 802, 803, 804, 805, 806, 807,\n",
       "         808, 809, 810, 811, 812, 813, 814, 815, 816, 817, 818, 819, 820,\n",
       "         821, 822, 823, 824, 825, 826, 827, 828, 829, 830, 831, 832, 833,\n",
       "         834, 835, 836, 837, 838, 839, 840, 841, 842, 843, 844, 845, 846,\n",
       "         847, 848, 849, 850, 851, 852, 853, 854, 855, 856, 857, 858, 859,\n",
       "         860]),),\n",
       " 'LMC5_fnt': (array([], dtype=int64),),\n",
       " 'LMC5_brt': (array([508, 509, 510, 511, 512, 513, 514, 515, 516, 517, 518, 519, 520,\n",
       "         521, 522, 523, 524, 525, 526, 527, 528, 529, 530, 531, 532, 533,\n",
       "         534, 535, 536, 537, 538, 539, 540, 541, 542, 543, 544, 545, 546,\n",
       "         547, 548, 549, 550, 551, 552, 553, 554, 555, 556, 557, 558, 559,\n",
       "         560, 561, 562, 563, 564, 565, 566, 567, 568, 569, 570, 571, 572,\n",
       "         573, 574, 575, 576, 577, 578, 579, 580, 581, 582, 583, 584, 585,\n",
       "         586, 587, 588, 589, 590, 591, 592, 593, 594, 595, 596, 597, 598,\n",
       "         599, 600, 601, 602, 603, 604, 605, 606, 607, 608, 609, 610, 611,\n",
       "         612, 613, 614, 615, 616, 617, 618, 619, 620, 621, 622, 623, 624,\n",
       "         625, 626, 627, 628, 629, 630, 631, 632, 633, 634, 635, 636, 637,\n",
       "         638, 639, 640, 641, 642, 643, 644, 645, 646, 647, 648, 649, 650,\n",
       "         651, 652, 653, 654, 655, 656, 657, 658, 659, 660, 661, 662, 663,\n",
       "         664, 665, 666, 667, 668, 669, 670, 671, 672, 673, 674, 675, 676,\n",
       "         677, 678, 679, 680, 681, 682, 683, 684, 685, 686, 687, 688, 689,\n",
       "         690]),),\n",
       " 'LMC6_fnt': (array([], dtype=int64),),\n",
       " 'LMC6_brt': (array([ 861,  862,  863,  864,  865,  866,  867,  868,  869,  870,  871,\n",
       "          872,  873,  874,  875,  876,  877,  878,  879,  880,  881,  882,\n",
       "          883,  884,  885,  886,  887,  888,  889,  890,  891,  892,  893,\n",
       "          894,  895,  896,  897,  898,  899,  900,  901,  902,  903,  904,\n",
       "          905,  906,  907,  908,  909,  910,  911,  912,  913,  914,  915,\n",
       "          916,  917,  918,  919,  920,  921,  922,  923,  924,  925,  926,\n",
       "          927,  928,  929,  930,  931,  932,  933,  934,  935,  936,  937,\n",
       "          938,  939,  940,  941,  942,  943,  944,  945,  946,  947,  948,\n",
       "          949,  950,  951,  952,  953,  954,  955,  956,  957,  958,  959,\n",
       "          960,  961,  962,  963,  964,  965,  966,  967,  968,  969,  970,\n",
       "          971,  972,  973,  974,  975,  976,  977,  978,  979,  980,  981,\n",
       "          982,  983,  984,  985,  986,  987,  988,  989,  990,  991,  992,\n",
       "          993,  994,  995,  996,  997,  998,  999, 1000, 1001, 1002, 1003,\n",
       "         1004, 1005, 1006, 1007, 1008, 1009, 1010, 1011, 1012]),),\n",
       " 'LMC7_fnt': (array([740, 741, 742, 743, 744, 745, 746, 747, 748, 749, 750, 751, 752,\n",
       "         753, 754, 755, 756, 757, 758, 759, 760, 761, 762, 763, 764, 765,\n",
       "         766, 767, 768, 769, 770, 771, 772, 773, 774, 775, 776, 777, 778,\n",
       "         779, 780, 781, 782, 783, 784, 785, 786, 787, 788, 789, 790, 791,\n",
       "         792, 793, 794, 795, 796, 797, 798, 799, 800, 801, 802, 803, 804,\n",
       "         805, 806, 807, 808, 809, 810, 811, 812, 813, 814, 815, 816, 817,\n",
       "         818, 819, 820, 821, 822, 823, 824, 825, 826, 827, 828, 829, 830,\n",
       "         831, 832, 833, 834, 835]),),\n",
       " 'LMC7_brt': (array([1245, 1246, 1247, 1248, 1249, 1250, 1251, 1252, 1253, 1254, 1255,\n",
       "         1256, 1257, 1258, 1259, 1260, 1261, 1262, 1263, 1264, 1265, 1266,\n",
       "         1267, 1268, 1269, 1270, 1271, 1272, 1273, 1274, 1275, 1276, 1277,\n",
       "         1278, 1279, 1280, 1281, 1282, 1283, 1284, 1285, 1286, 1287, 1288,\n",
       "         1289, 1290, 1291, 1292, 1293, 1294, 1295, 1296, 1297, 1298, 1299,\n",
       "         1300]),),\n",
       " 'LMC8_fnt': (array([], dtype=int64),),\n",
       " 'LMC8_brt': (array([319, 320, 321, 322, 323, 324, 325, 326, 327, 328, 329, 330, 331,\n",
       "         332, 333, 334, 335, 336, 337, 338, 339, 340, 341, 342, 343, 344,\n",
       "         345, 346, 347, 348, 349, 350, 351, 352, 353, 354, 355, 356, 357,\n",
       "         358, 359, 360, 361, 362, 363, 364, 365, 366, 367, 368, 369, 370,\n",
       "         371, 372, 373, 374, 375, 376, 377, 378, 379, 380, 381, 382, 383,\n",
       "         384, 385, 386, 387, 388, 389, 390, 391, 392, 393, 394, 395, 396,\n",
       "         397, 398, 399, 400, 401, 402, 403, 404, 405, 406, 407, 408, 409,\n",
       "         410, 411, 412, 413, 414, 415, 416, 417, 418, 419, 420, 421, 422,\n",
       "         423, 424, 425, 426, 427, 428, 429, 430, 431, 432, 433, 434, 435,\n",
       "         436, 437, 438, 439, 440, 441, 442, 443, 444, 445, 446, 447, 448,\n",
       "         449, 450, 451, 452, 453, 454, 455, 456, 457, 458, 459, 460, 461,\n",
       "         462, 463, 464, 465, 466, 467, 468, 469, 470, 471, 472, 473, 474,\n",
       "         475, 476, 477, 478, 479, 480, 481, 482, 483, 484, 485, 486, 487,\n",
       "         488, 489, 490, 491, 492, 493, 494, 495, 496, 497, 498, 499, 500,\n",
       "         501, 502, 503, 504, 505, 506, 507]),),\n",
       " 'LMC9_fnt': (array([], dtype=int64),),\n",
       " 'LMC9_brt': (array([ 0,  1,  2,  3,  4,  5,  6,  7,  8,  9, 10, 11, 12, 13, 14, 15, 16,\n",
       "         17, 18, 19, 20, 21, 22, 23, 24, 25, 26, 27, 28, 29, 30, 31, 32, 33,\n",
       "         34, 35, 36, 37, 38, 39, 40, 41, 42, 43, 44, 45, 46, 47, 48, 49, 50,\n",
       "         51, 52, 53, 54, 55, 56, 57, 58, 59, 60, 61, 62, 63, 64, 65, 66, 67,\n",
       "         68, 69, 70, 71, 72, 73, 74, 75, 76, 77, 78, 79]),),\n",
       " 'LMC10_fnt': (array([114, 115, 116, 117, 118, 119, 120, 121, 122, 123, 124, 125, 126,\n",
       "         127, 128, 129, 130, 131, 132, 133, 134, 135, 136, 137, 138, 139,\n",
       "         140, 141, 142, 143, 144, 145, 146, 147, 148, 149, 150, 151, 152,\n",
       "         153, 154, 155, 156, 157, 158, 159, 160, 161, 162, 163, 164, 165,\n",
       "         166, 167, 168, 169, 170, 171, 172, 173, 174, 175, 176, 177, 178,\n",
       "         179, 180, 181, 182, 183, 184, 185, 186, 187, 188, 189, 190, 191,\n",
       "         192, 193, 194, 195, 196, 197, 198, 199, 200, 201, 202, 203, 204,\n",
       "         205, 206, 207, 208, 209, 210, 211, 212, 213, 214, 215, 216, 217,\n",
       "         218, 219, 220, 221, 222, 223, 224, 225, 226, 227, 228, 229, 230,\n",
       "         231, 232]),),\n",
       " 'LMC10_brt': (array([1051, 1052, 1053, 1054, 1055, 1056, 1057, 1058, 1059, 1060, 1061,\n",
       "         1062, 1063, 1064, 1065, 1066, 1067, 1068, 1069, 1070, 1071, 1072,\n",
       "         1073, 1074, 1075, 1076, 1077, 1078, 1079, 1080, 1081, 1082, 1083]),),\n",
       " 'LMC11_fnt': (array([496, 497, 498, 499, 500, 501, 502, 503, 504, 505, 506, 507, 508,\n",
       "         509, 510, 511, 512, 513, 514, 515, 516, 517, 518, 519, 520, 521,\n",
       "         522, 523, 524, 525, 526, 527, 528, 529, 530, 531, 532, 533, 534,\n",
       "         535, 536, 537, 538, 539, 540, 541, 542, 543, 544, 545, 546, 547,\n",
       "         548, 549, 550, 551]),),\n",
       " 'LMC11_brt': (array([1112, 1113, 1114, 1115, 1116, 1117, 1118, 1119, 1120, 1121, 1122,\n",
       "         1123, 1124, 1125, 1126, 1127, 1128, 1129, 1130, 1131, 1132, 1133,\n",
       "         1134, 1135, 1136, 1137, 1138, 1139, 1140, 1141, 1142, 1143, 1144,\n",
       "         1145, 1146, 1147, 1148, 1149, 1150, 1151, 1152, 1153, 1154, 1155,\n",
       "         1156, 1157, 1158, 1159, 1160, 1161, 1162, 1163, 1164, 1165, 1166,\n",
       "         1167, 1168, 1169, 1170, 1171, 1172, 1173, 1174, 1175, 1176, 1177,\n",
       "         1178, 1179, 1180, 1181, 1182, 1183, 1184, 1185, 1186, 1187, 1188,\n",
       "         1189, 1190, 1191, 1192, 1193, 1194, 1195, 1196, 1197, 1198, 1199,\n",
       "         1200, 1201, 1202, 1203, 1204, 1205, 1206, 1207, 1208, 1209, 1210,\n",
       "         1211, 1212, 1213, 1214, 1215, 1216, 1217, 1218, 1219, 1220, 1221,\n",
       "         1222]),),\n",
       " 'LMC12_fnt': (array([836, 837, 838, 839, 840, 841, 842, 843, 844, 845, 846, 847, 848,\n",
       "         849, 850, 851, 852, 853, 854, 855, 856, 857, 858, 859, 860, 861,\n",
       "         862, 863, 864, 865, 866, 867, 868, 869, 870, 871, 872, 873, 874,\n",
       "         875, 876, 877, 878, 879, 880, 881, 882, 883, 884, 885, 886, 887,\n",
       "         888, 889, 890, 891, 892, 893, 894, 895, 896, 897, 898, 899, 900,\n",
       "         901, 902, 903, 904, 905, 906, 907, 908, 909, 910, 911, 912, 913]),),\n",
       " 'LMC12_brt': (array([1301, 1302, 1303, 1304, 1305, 1306, 1307, 1308, 1309, 1310, 1311,\n",
       "         1312, 1313, 1314, 1315, 1316]),),\n",
       " 'LMC13_fnt': (array([], dtype=int64),),\n",
       " 'LMC13_brt': (array([ 95,  96,  97,  98,  99, 100, 101, 102, 103, 104, 105, 106, 107,\n",
       "         108, 109, 110, 111, 112, 113, 114, 115, 116, 117, 118, 119, 120,\n",
       "         121, 122, 123, 124, 125, 126, 127, 128, 129, 130, 131, 132, 133,\n",
       "         134, 135, 136, 137, 138, 139, 140, 141, 142, 143, 144, 145, 146,\n",
       "         147, 148, 149, 150, 151, 152, 153, 154, 155, 156, 157, 158, 159,\n",
       "         160, 161, 162, 163, 164, 165, 166, 167, 168, 169, 170, 171, 172,\n",
       "         173, 174, 175, 176, 177, 178, 179, 180, 181, 182, 183, 184, 185,\n",
       "         186, 187, 188, 189, 190, 191, 192, 193, 194, 195, 196, 197, 198,\n",
       "         199, 200, 201, 202, 203, 204, 205, 206, 207, 208]),),\n",
       " 'LMC14_fnt': (array([], dtype=int64),),\n",
       " 'LMC14_brt': (array([209, 210, 211, 212, 213, 214, 215, 216, 217, 218, 219, 220, 221,\n",
       "         222, 223, 224, 225, 226, 227, 228, 229, 230, 231, 232, 233, 234,\n",
       "         235, 236, 237, 238, 239, 240, 241, 242, 243, 244, 245, 246, 247,\n",
       "         248, 249, 250, 251, 252, 253, 254, 255, 256, 257, 258, 259, 260,\n",
       "         261, 262, 263, 264, 265, 266, 267, 268, 269, 270, 271, 272, 273,\n",
       "         274, 275, 276, 277, 278, 279, 280, 281, 282, 283, 284, 285, 286,\n",
       "         287, 288, 289, 290, 291, 292, 293, 294, 295, 296, 297, 298, 299,\n",
       "         300, 301, 302, 303, 304, 305, 306, 307, 308, 309, 310, 311, 312,\n",
       "         313, 314, 315, 316, 317, 318]),),\n",
       " 'LMC15_fnt': (array([], dtype=int64),),\n",
       " 'LMC15_brt': (array([], dtype=int64),),\n",
       " 'LMC16_fnt': (array([649, 650, 651, 652, 653, 654, 655, 656, 657, 658, 659, 660, 661,\n",
       "         662, 663, 664, 665, 666, 667, 668, 669, 670, 671, 672, 673, 674,\n",
       "         675, 676, 677, 678, 679, 680, 681, 682, 683, 684, 685, 686, 687,\n",
       "         688, 689, 690, 691, 692, 693, 694, 695, 696, 697, 698, 699, 700,\n",
       "         701, 702, 703, 704, 705, 706, 707, 708, 709, 710, 711, 712, 713,\n",
       "         714, 715, 716, 717, 718, 719, 720, 721, 722, 723, 724, 725, 726,\n",
       "         727, 728, 729, 730, 731, 732, 733, 734, 735, 736, 737, 738, 739]),),\n",
       " 'LMC16_brt': (array([1232, 1233, 1234, 1235, 1236, 1237, 1238, 1239, 1240, 1241, 1242,\n",
       "         1243, 1244]),),\n",
       " 'LMC17_fnt': (array([  0,   1,   2,   3,   4,   5,   6,   7,   8,   9,  10,  11,  12,\n",
       "          13,  14,  15,  16,  17,  18,  19,  20,  21,  22,  23,  24,  25,\n",
       "          26,  27,  28,  29,  30,  31,  32,  33,  34,  35,  36,  37,  38,\n",
       "          39,  40,  41,  42,  43,  44,  45,  46,  47,  48,  49,  50,  51,\n",
       "          52,  53,  54,  55,  56,  57,  58,  59,  60,  61,  62,  63,  64,\n",
       "          65,  66,  67,  68,  69,  70,  71,  72,  73,  74,  75,  76,  77,\n",
       "          78,  79,  80,  81,  82,  83,  84,  85,  86,  87,  88,  89,  90,\n",
       "          91,  92,  93,  94,  95,  96,  97,  98,  99, 100, 101, 102, 103,\n",
       "         104, 105, 106, 107, 108, 109, 110, 111, 112, 113]),),\n",
       " 'LMC17_brt': (array([1013, 1014, 1015, 1016, 1017, 1018, 1019, 1020, 1021, 1022, 1023,\n",
       "         1024, 1025, 1026, 1027, 1028, 1029, 1030, 1031, 1032, 1033, 1034,\n",
       "         1035, 1036, 1037, 1038, 1039, 1040, 1041, 1042, 1043, 1044, 1045,\n",
       "         1046, 1047, 1048, 1049, 1050]),)}"
      ]
     },
     "execution_count": 94,
     "metadata": {},
     "output_type": "execute_result"
    }
   ],
   "source": [
    "fbins['30Dor']"
   ]
  },
  {
   "cell_type": "code",
   "execution_count": null,
   "metadata": {},
   "outputs": [],
   "source": []
  }
 ],
 "metadata": {
  "kernelspec": {
   "display_name": "Python 3",
   "language": "python",
   "name": "python3"
  },
  "language_info": {
   "codemirror_mode": {
    "name": "ipython",
    "version": 3
   },
   "file_extension": ".py",
   "mimetype": "text/x-python",
   "name": "python",
   "nbconvert_exporter": "python",
   "pygments_lexer": "ipython3",
   "version": "3.7.1"
  }
 },
 "nbformat": 4,
 "nbformat_minor": 2
}
